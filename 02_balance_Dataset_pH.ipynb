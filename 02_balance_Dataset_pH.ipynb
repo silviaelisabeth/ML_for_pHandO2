{
 "cells": [
  {
   "cell_type": "code",
   "execution_count": 1,
   "id": "5488a779",
   "metadata": {},
   "outputs": [
    {
     "name": "stderr",
     "output_type": "stream",
     "text": [
      "/Users/au652733/Python/2019-2022/Project_pH+O2/function_dbs.py:16: MatplotlibDeprecationWarning: \n",
      "The mpl_toolkits.axes_grid module was deprecated in Matplotlib 2.1 and will be removed two minor releases later. Use mpl_toolkits.axes_grid1 and mpl_toolkits.axisartist, which provide the same functionality instead.\n",
      "  from mpl_toolkits.axes_grid.inset_locator import (inset_axes, InsetPosition, mark_inset)\n"
     ]
    }
   ],
   "source": [
    "%run function_dbs.py\n",
    "%run MLRegression_dbs.py\n",
    "plt.style.use('ggplot')\n",
    "%matplotlib inline\n",
    "\n",
    "fs, color = 10, 'k'\n",
    "today = ''.join(str(datetime.today()).split(' ')[0].split('-'))"
   ]
  },
  {
   "cell_type": "markdown",
   "id": "ca3091cb",
   "metadata": {},
   "source": [
    "## Load spectral data and calibration information"
   ]
  },
  {
   "cell_type": "code",
   "execution_count": 2,
   "id": "aa39b4c8",
   "metadata": {
    "scrolled": true
   },
   "outputs": [
    {
     "data": {
      "text/html": [
       "<div>\n",
       "<style scoped>\n",
       "    .dataframe tbody tr th:only-of-type {\n",
       "        vertical-align: middle;\n",
       "    }\n",
       "\n",
       "    .dataframe tbody tr th {\n",
       "        vertical-align: top;\n",
       "    }\n",
       "\n",
       "    .dataframe thead th {\n",
       "        text-align: right;\n",
       "    }\n",
       "</style>\n",
       "<table border=\"1\" class=\"dataframe\">\n",
       "  <thead>\n",
       "    <tr style=\"text-align: right;\">\n",
       "      <th></th>\n",
       "      <th>470.0</th>\n",
       "      <th>472.8859</th>\n",
       "      <th>475.7718</th>\n",
       "      <th>478.6577</th>\n",
       "      <th>481.5436</th>\n",
       "      <th>484.4295</th>\n",
       "      <th>487.3154</th>\n",
       "      <th>490.2013</th>\n",
       "      <th>493.0872</th>\n",
       "      <th>495.9732</th>\n",
       "      <th>...</th>\n",
       "      <th>879.7987</th>\n",
       "      <th>882.6846</th>\n",
       "      <th>885.5705</th>\n",
       "      <th>888.4564</th>\n",
       "      <th>891.3423</th>\n",
       "      <th>894.2282</th>\n",
       "      <th>897.1141</th>\n",
       "      <th>900.0</th>\n",
       "      <th>pH</th>\n",
       "      <th>O2 (hPa)</th>\n",
       "    </tr>\n",
       "  </thead>\n",
       "  <tbody>\n",
       "    <tr>\n",
       "      <th>5425</th>\n",
       "      <td>0.276339</td>\n",
       "      <td>0.661226</td>\n",
       "      <td>1.046154</td>\n",
       "      <td>1.543051</td>\n",
       "      <td>1.898691</td>\n",
       "      <td>2.167994</td>\n",
       "      <td>2.244932</td>\n",
       "      <td>2.436393</td>\n",
       "      <td>2.431091</td>\n",
       "      <td>2.330473</td>\n",
       "      <td>...</td>\n",
       "      <td>0.024306</td>\n",
       "      <td>0.024109</td>\n",
       "      <td>0.023090</td>\n",
       "      <td>0.021780</td>\n",
       "      <td>0.019693</td>\n",
       "      <td>0.017264</td>\n",
       "      <td>0.015920</td>\n",
       "      <td>0.015371</td>\n",
       "      <td>4.00</td>\n",
       "      <td>134.712625</td>\n",
       "    </tr>\n",
       "    <tr>\n",
       "      <th>6443</th>\n",
       "      <td>0.922336</td>\n",
       "      <td>0.926274</td>\n",
       "      <td>0.930267</td>\n",
       "      <td>0.934250</td>\n",
       "      <td>1.200606</td>\n",
       "      <td>1.633466</td>\n",
       "      <td>1.938494</td>\n",
       "      <td>2.010242</td>\n",
       "      <td>2.038750</td>\n",
       "      <td>1.860656</td>\n",
       "      <td>...</td>\n",
       "      <td>0.014580</td>\n",
       "      <td>0.013536</td>\n",
       "      <td>0.012863</td>\n",
       "      <td>0.012263</td>\n",
       "      <td>0.012042</td>\n",
       "      <td>0.011882</td>\n",
       "      <td>0.011042</td>\n",
       "      <td>0.009724</td>\n",
       "      <td>9.50</td>\n",
       "      <td>190.555437</td>\n",
       "    </tr>\n",
       "    <tr>\n",
       "      <th>5334</th>\n",
       "      <td>-0.124276</td>\n",
       "      <td>0.421410</td>\n",
       "      <td>0.691439</td>\n",
       "      <td>1.027731</td>\n",
       "      <td>1.483116</td>\n",
       "      <td>2.006982</td>\n",
       "      <td>2.435173</td>\n",
       "      <td>2.647886</td>\n",
       "      <td>2.688329</td>\n",
       "      <td>2.654428</td>\n",
       "      <td>...</td>\n",
       "      <td>0.039818</td>\n",
       "      <td>0.037431</td>\n",
       "      <td>0.034781</td>\n",
       "      <td>0.032186</td>\n",
       "      <td>0.029258</td>\n",
       "      <td>0.026984</td>\n",
       "      <td>0.026235</td>\n",
       "      <td>0.026583</td>\n",
       "      <td>4.00</td>\n",
       "      <td>55.936038</td>\n",
       "    </tr>\n",
       "    <tr>\n",
       "      <th>2995</th>\n",
       "      <td>0.331683</td>\n",
       "      <td>0.672063</td>\n",
       "      <td>0.976972</td>\n",
       "      <td>0.975008</td>\n",
       "      <td>1.322428</td>\n",
       "      <td>1.851261</td>\n",
       "      <td>2.207481</td>\n",
       "      <td>2.103073</td>\n",
       "      <td>2.085745</td>\n",
       "      <td>1.953321</td>\n",
       "      <td>...</td>\n",
       "      <td>0.014020</td>\n",
       "      <td>0.014594</td>\n",
       "      <td>0.013560</td>\n",
       "      <td>0.013396</td>\n",
       "      <td>0.011249</td>\n",
       "      <td>0.009732</td>\n",
       "      <td>0.010186</td>\n",
       "      <td>0.010236</td>\n",
       "      <td>7.01</td>\n",
       "      <td>195.589680</td>\n",
       "    </tr>\n",
       "    <tr>\n",
       "      <th>3284</th>\n",
       "      <td>0.254078</td>\n",
       "      <td>0.574087</td>\n",
       "      <td>0.861738</td>\n",
       "      <td>0.969386</td>\n",
       "      <td>1.217643</td>\n",
       "      <td>1.628817</td>\n",
       "      <td>1.876547</td>\n",
       "      <td>1.936835</td>\n",
       "      <td>1.984267</td>\n",
       "      <td>1.967833</td>\n",
       "      <td>...</td>\n",
       "      <td>0.014380</td>\n",
       "      <td>0.013855</td>\n",
       "      <td>0.013285</td>\n",
       "      <td>0.013151</td>\n",
       "      <td>0.011934</td>\n",
       "      <td>0.010877</td>\n",
       "      <td>0.010088</td>\n",
       "      <td>0.009738</td>\n",
       "      <td>6.50</td>\n",
       "      <td>190.275757</td>\n",
       "    </tr>\n",
       "  </tbody>\n",
       "</table>\n",
       "<p>5 rows × 152 columns</p>\n",
       "</div>"
      ],
      "text/plain": [
       "         470.0  472.8859  475.7718  478.6577  481.5436  484.4295  487.3154  \\\n",
       "5425  0.276339  0.661226  1.046154  1.543051  1.898691  2.167994  2.244932   \n",
       "6443  0.922336  0.926274  0.930267  0.934250  1.200606  1.633466  1.938494   \n",
       "5334 -0.124276  0.421410  0.691439  1.027731  1.483116  2.006982  2.435173   \n",
       "2995  0.331683  0.672063  0.976972  0.975008  1.322428  1.851261  2.207481   \n",
       "3284  0.254078  0.574087  0.861738  0.969386  1.217643  1.628817  1.876547   \n",
       "\n",
       "      490.2013  493.0872  495.9732  ...  879.7987  882.6846  885.5705  \\\n",
       "5425  2.436393  2.431091  2.330473  ...  0.024306  0.024109  0.023090   \n",
       "6443  2.010242  2.038750  1.860656  ...  0.014580  0.013536  0.012863   \n",
       "5334  2.647886  2.688329  2.654428  ...  0.039818  0.037431  0.034781   \n",
       "2995  2.103073  2.085745  1.953321  ...  0.014020  0.014594  0.013560   \n",
       "3284  1.936835  1.984267  1.967833  ...  0.014380  0.013855  0.013285   \n",
       "\n",
       "      888.4564  891.3423  894.2282  897.1141     900.0    pH    O2 (hPa)  \n",
       "5425  0.021780  0.019693  0.017264  0.015920  0.015371  4.00  134.712625  \n",
       "6443  0.012263  0.012042  0.011882  0.011042  0.009724  9.50  190.555437  \n",
       "5334  0.032186  0.029258  0.026984  0.026235  0.026583  4.00   55.936038  \n",
       "2995  0.013396  0.011249  0.009732  0.010186  0.010236  7.01  195.589680  \n",
       "3284  0.013151  0.011934  0.010877  0.010088  0.009738  6.50  190.275757  \n",
       "\n",
       "[5 rows x 152 columns]"
      ]
     },
     "execution_count": 2,
     "metadata": {},
     "output_type": "execute_result"
    }
   ],
   "source": [
    "# define path to where to find the absolute fluorescence intensity\n",
    "ddata = pd.read_csv('460nm/20220831_trainingData_absoluteIntensity.csv', index_col=0).astype(float)\n",
    "ddata.columns = [float(i) for i in ddata.columns[:-2]] + ['pH', 'O2 (%O2)']\n",
    "\n",
    "# convert %O2 to hPa\n",
    "ddata['O2 (hPa)'] = 1/20.95*195.31 * ddata['O2 (%O2)'].to_numpy()\n",
    "ddata = pd.concat([ddata.loc[:, :900], ddata['pH'], ddata['O2 (hPa)']], axis=1)\n",
    "\n",
    "# crop pH data to a range between pH 2-12 \n",
    "df_ = ddata[ddata['pH'] < 12]\n",
    "ddata = df_[df_['pH'] > 2]\n",
    "ddata.index = np.arange(0, len(ddata.index))\n",
    "\n",
    "\n",
    "# fluorescence spectra as features\n",
    "df_features_ = ddata.loc[:, 470:900]\n",
    "\n",
    "# adjust the precision: pH 1xdecimal, O2 1xdecimal\n",
    "target_pH, target_O2 = [round(p,1) for p in ddata['pH']], [round(p,1) for p in ddata['O2 (hPa)']]\n",
    "\n",
    "# --------------------------------\n",
    "ddata.sample(5)"
   ]
  },
  {
   "cell_type": "markdown",
   "id": "c1f54781",
   "metadata": {},
   "source": [
    "Check the inbalance of the data set\n",
    "\n",
    "- pH 7, 4, and 11 are overrepresented\n",
    "- Quick note on how to deal with an imbalanced dataset: https://towardsdatascience.com/how-to-balance-a-dataset-in-python-36dff9d12704"
   ]
  },
  {
   "cell_type": "code",
   "execution_count": 3,
   "id": "8c6c3a9f",
   "metadata": {
    "scrolled": false
   },
   "outputs": [
    {
     "data": {
      "image/png": "[encoded data removed]",
      "text/plain": [
       "<Figure size 360x216 with 1 Axes>"
      ]
     },
     "metadata": {
      "needs_background": "light"
     },
     "output_type": "display_data"
    }
   ],
   "source": [
    "fig, ax = plt.subplots(figsize=(5,3))\n",
    "fig.suptitle('Histogram on measured calibration data >> is your data balanced?', fontsize=9, color=color)\n",
    "\n",
    "ax.hist(target_pH, color='darkorange', label='pH')\n",
    "ax.legend(loc=2, frameon=False, fancybox=False, labelcolor=color)\n",
    "\n",
    "ax.set_ylabel('Counts', color=color), ax.set_xlabel('pH', color=color)\n",
    "ax.tick_params(axis='both', colors=color)\n",
    "plt.tight_layout(pad=0.5)\n",
    "\n",
    "# --------------------------------\n",
    "# fig.savefig('20220926_dataset_Histogram_of_CalibrationPoints.svg', dpi=300, transparent=True)"
   ]
  },
  {
   "cell_type": "markdown",
   "id": "f9fae364",
   "metadata": {},
   "source": [
    "# Prepare data set for pH\n",
    "\n",
    "##### balance data set"
   ]
  },
  {
   "cell_type": "code",
   "execution_count": 4,
   "id": "2694049d",
   "metadata": {},
   "outputs": [
    {
     "name": "stdout",
     "output_type": "stream",
     "text": [
      "raw data available:  6476\n",
      "average sample size for each calibration point:  360\n"
     ]
    }
   ],
   "source": [
    "df_features = pd.concat([df_features_, pd.DataFrame(target_O2, columns=['O2 (hPa)'])], axis=1)\n",
    "df_features.index = pd.DataFrame(target_pH)[0].to_numpy()\n",
    "print('raw data available: ', df_features.shape[0])\n",
    "\n",
    "n_count_median = int(pd.DataFrame(target_pH).value_counts().median())\n",
    "print('average sample size for each calibration point: ', n_count_median)"
   ]
  },
  {
   "cell_type": "code",
   "execution_count": 5,
   "id": "9d36b36c",
   "metadata": {},
   "outputs": [
    {
     "name": "stderr",
     "output_type": "stream",
     "text": [
      "/Applications/anaconda3/lib/python3.8/site-packages/numpy/lib/nanfunctions.py:1113: RuntimeWarning: All-NaN slice encountered\n",
      "  r, k = function_base._ureduce(a, func=_nanmedian, axis=axis, out=out,\n",
      "/Applications/anaconda3/lib/python3.8/site-packages/numpy/lib/nanfunctions.py:1113: RuntimeWarning: All-NaN slice encountered\n",
      "  r, k = function_base._ureduce(a, func=_nanmedian, axis=axis, out=out,\n",
      "/Applications/anaconda3/lib/python3.8/site-packages/numpy/lib/nanfunctions.py:1113: RuntimeWarning: All-NaN slice encountered\n",
      "  r, k = function_base._ureduce(a, func=_nanmedian, axis=axis, out=out,\n"
     ]
    },
    {
     "name": "stdout",
     "output_type": "stream",
     "text": [
      ">> amount of NaNs in data set: 0\n",
      ">> data points available upon balancing: 3720\n"
     ]
    }
   ],
   "source": [
    "### data adjustment\n",
    "\n",
    "# get the pH points that are above the median\n",
    "df_2smooth = pd.DataFrame(target_pH).value_counts()[pd.DataFrame(target_pH).value_counts() > n_count_median]\n",
    "ls_smooth_ph = [x[0] for x in pd.DataFrame(df_2smooth).index]\n",
    "\n",
    "# group prevailing data to larger chunks and smooth spectral information\n",
    "df_ph_sm = data_smoothing(n_count_median=n_count_median, df_features=df_features, ls_smooth=ls_smooth_ph, analyte='pH')  \n",
    "\n",
    "# --------------------------------------------------------------------\n",
    "# re-combine reduced data set to the one that did not get smoothed -> balanced data set\n",
    "ls_ph_remain = list(dict.fromkeys(target_pH)).copy()\n",
    "[ls_ph_remain.remove(o) for o in ls_smooth_ph]\n",
    "\n",
    "df_features.loc[:, 'pH'] = df_features.index\n",
    "df_features_balanced = pd.concat([df_ph_sm, df_features.loc[ls_ph_remain]], axis=0)\n",
    "df_features_balanced = df_features_balanced.sort_index()\n",
    "df_features_ml = df_features_balanced.loc[:, 470:'O2 (hPa)']\n",
    "\n",
    "# --------------------------------------------------------------------\n",
    "# replace NaN values in dataFrame\n",
    "df_features_ml = _replace_nan(df_features_ml, analyte='pH')\n",
    "\n",
    "print('>> amount of NaNs in data set:', df_features_ml.isnull().sum().sum())\n",
    "print('>> data points available upon balancing:', df_features_ml.shape[0])"
   ]
  },
  {
   "cell_type": "markdown",
   "id": "d6c523c5",
   "metadata": {},
   "source": [
    "upon balancing the data set is still not ideal, but it is much bettern than before"
   ]
  },
  {
   "cell_type": "code",
   "execution_count": 6,
   "id": "30a138a2",
   "metadata": {
    "scrolled": false
   },
   "outputs": [
    {
     "name": "stdout",
     "output_type": "stream",
     "text": [
      "the data set is still bit unbalanced, but already much better than before\n"
     ]
    },
    {
     "data": {
      "image/png": "[encoded data removed]",
      "text/plain": [
       "<Figure size 504x216 with 2 Axes>"
      ]
     },
     "metadata": {
      "needs_background": "light"
     },
     "output_type": "display_data"
    }
   ],
   "source": [
    "print('the data set is still bit unbalanced, but already much better than before')\n",
    "\n",
    "# ---------------------------------------------------------------------------------------\n",
    "\n",
    "fig, ax = plt.subplots(figsize=(7,3), ncols=2, sharex=True, sharey=True)\n",
    "fig.suptitle('Histogram on measured calibration data before (a) and after (b) the balancing procedure', fontsize=9, color=color)\n",
    "\n",
    "ax[0].hist(target_pH, color='darkorange', label='pH', alpha=0.5)\n",
    "ax[1].hist(df_features_balanced.index, color='darkorange')\n",
    "ax[0].set_ylabel('Counts', color=color), ax[0].set_xlabel('pH', color=color), ax[1].set_xlabel('pH', color=color)\n",
    "ax[0].tick_params(axis='both', colors=color), ax[1].tick_params(axis='both', colors=color)\n",
    "\n",
    "plt.tight_layout(pad=0.5)\n",
    "\n",
    "# ---------------------------------------------------------------------------------------\n",
    "# save plot\n",
    "# fig.savefig('20220926_balancedData_pH.svg', dpi=300, transparent=True)"
   ]
  },
  {
   "cell_type": "markdown",
   "id": "5b4164eb",
   "metadata": {},
   "source": [
    "## Save data"
   ]
  },
  {
   "cell_type": "code",
   "execution_count": 20,
   "id": "98509bfe",
   "metadata": {},
   "outputs": [],
   "source": [
    "df_features_ml.to_csv(today + '_TrainingData-pH_balanced_absoluteInt_hPa.csv', sep='\\t', decimal='.')"
   ]
  },
  {
   "cell_type": "code",
   "execution_count": null,
   "id": "73b1b40a",
   "metadata": {},
   "outputs": [],
   "source": []
  },
  {
   "cell_type": "markdown",
   "id": "2900eefd",
   "metadata": {},
   "source": [
    "## Training data set inspection"
   ]
  },
  {
   "cell_type": "code",
   "execution_count": 7,
   "id": "09df6334",
   "metadata": {},
   "outputs": [
    {
     "name": "stdout",
     "output_type": "stream",
     "text": [
      "in ML a rule of thumbs says that a suitable size for a data set is >1,000 samples\n",
      "size of data sets:\n",
      "> training data   (151, 3348) \n",
      "> validation data (151, 372)\n"
     ]
    }
   ],
   "source": [
    "# split the data into training and validation data\n",
    "y_truth = df_features_ml.index              # n_samples (3720,) chosen analyte\n",
    "X = df_features_ml                          # shape (n_features, n_samples) with (3720, 151)\n",
    "X_train, X_valid, truth_train, truth_valid = train_test_split(X, y_truth, test_size=0.1, random_state=42)\n",
    "X_train, X_valid = X_train.T, X_valid.T\n",
    "\n",
    "print('in ML a rule of thumbs says that a suitable size for a data set is >1,000 samples')\n",
    "print('size of data sets:')\n",
    "print('> training data  ', X_train.shape, '\\n> validation data', X_valid.shape)"
   ]
  },
  {
   "cell_type": "code",
   "execution_count": 8,
   "id": "e3568228",
   "metadata": {},
   "outputs": [
    {
     "name": "stdout",
     "output_type": "stream",
     "text": [
      "[RESULTS]\n",
      "    PCA(n_components=151, random_state=42)\n"
     ]
    }
   ],
   "source": [
    "# PCA as initial check whether a pattern is visible\n",
    "\n",
    "# unsupervised dimension reduction for array-like data sets of shape (n_samples, n_features)\n",
    "pca = PCA(n_components=min(X_train.shape), random_state=42)  \n",
    "pca.fit(np.array(X_train).T)                                \n",
    "\n",
    "# apply transform to dataset\n",
    "X_train_dim_ = pca.transform(np.array(X_train).T)\n",
    "X_valid_dim_ = pca.transform(np.array(X_valid).T)\n",
    "\n",
    "print('[RESULTS]\\n   ', pca)"
   ]
  },
  {
   "cell_type": "markdown",
   "id": "06f909a6",
   "metadata": {},
   "source": [
    "The covariance shows which parameters are more important for separation (the brighter the more important). As it can be seen from the plot the wavelengths between 470-500nm (parameters 0-10) and 730-830 (parameters 91-126) are more important."
   ]
  },
  {
   "cell_type": "code",
   "execution_count": 9,
   "id": "d60db009",
   "metadata": {},
   "outputs": [
    {
     "data": {
      "image/png": "[encoded data removed]",
      "text/plain": [
       "<Figure size 288x172.8 with 1 Axes>"
      ]
     },
     "metadata": {
      "needs_background": "light"
     },
     "output_type": "display_data"
    }
   ],
   "source": [
    "# which precision is sufficient?\n",
    "precision = .9995\n",
    "\n",
    "# find the PCAs that are needed to match the precision\n",
    "cut = [k+1 for k, c in enumerate(np.cumsum(pca.explained_variance_ratio_)) if c < precision]\n",
    "\n",
    "if len(cut) > 1:\n",
    "    print('>> explained variance with PC1-{}: {:.3f}%'.format(cut[-1]+1, np.cumsum(pca.explained_variance_ratio_)[cut[-1]]*100))\n",
    "    X_train_dim, X_valid_dim = X_train_dim_[:, :cut[-1]+1], X_valid_dim_[:, :cut[-1]+1]\n",
    "else:\n",
    "    X_train_dim, X_valid_dim = X_train_dim_, X_valid_dim_\n",
    "    \n",
    "# ------------------------------------------------------------------------------------------\n",
    "# plot results\n",
    "fig, ax = plt.subplots(figsize=(4,2.4))\n",
    "\n",
    "ax.plot(np.cumsum(pca.explained_variance_ratio_))\n",
    "ax.axhline(precision, lw=0.75, color=color, ls='-.')\n",
    "if len(cut) > 1: \n",
    "    ax.axvline(cut[-1], color=color, lw=0.75, ls='-.')\n",
    "    ax.legend(['precision: ' + str(precision*100) + '% - PCA1-{}'.format(cut[-1]+1) ], fontsize=8, frameon=False, labelcolor=color)\n",
    "\n",
    "ax.set_xlabel('Number of components', fontsize=fs, color=color)\n",
    "ax.set_ylabel('Cumulative explained variance', fontsize=fs, color=color)\n",
    "ax.tick_params(labelsize=fs*0.8, labelcolor=color),\n",
    "plt.tight_layout()\n",
    " \n",
    "# ------------------------------------------------------------------------------------------\n",
    "# save plot\n",
    "# fig.savefig('CumVariance-pH_absoluteInt_{}.svg'.format(color), transparent=True, dpi=300)"
   ]
  },
  {
   "cell_type": "code",
   "execution_count": 10,
   "id": "7962e0af",
   "metadata": {},
   "outputs": [
    {
     "data": {
      "image/png": "[encoded data removed]",
      "text/plain": [
       "<Figure size 360x216 with 2 Axes>"
      ]
     },
     "metadata": {
      "needs_background": "light"
     },
     "output_type": "display_data"
    }
   ],
   "source": [
    "fig, ax = plt.subplots(figsize=(5,3))\n",
    "\n",
    "sns.heatmap(pca.get_covariance() / np.nanmean(pca.get_covariance()), ax=ax, vmin=0, vmax=0.25, cmap='inferno')\n",
    "colorbar = ax.collections[0].colorbar\n",
    "colorbar.ax.tick_params(colors=color)\n",
    "\n",
    "ax.set_xticklabels([int(round(df_features_ml.columns[n*7],0)) for n in np.arange(22)])\n",
    "ax.set_yticklabels([int(round(df_features_ml.columns[n*9],0)) for n in np.arange(17)])\n",
    "\n",
    "ax.tick_params(labelsize=fs*0.8, labelcolor=color)\n",
    "plt.tight_layout(pad=0.5)\n",
    "\n",
    "# ------------------------------------------------------------------------------------------\n",
    "# save plot\n",
    "# fig.savefig('RelativeCovariance-pH_absoutInt_{}.svg'.format(color), transparent=True, dpi=300)"
   ]
  },
  {
   "cell_type": "code",
   "execution_count": null,
   "id": "0f057868",
   "metadata": {},
   "outputs": [],
   "source": []
  },
  {
   "cell_type": "markdown",
   "id": "ea93ae16",
   "metadata": {},
   "source": [
    "## Screening of different ML regression algorithms\n",
    "\n",
    "the performance of the models is compared based on the mean absolute error (MAE) and the root-mean-square deviation/error (RMSE)"
   ]
  },
  {
   "cell_type": "code",
   "execution_count": 11,
   "id": "93d6980d",
   "metadata": {},
   "outputs": [],
   "source": [
    "# 1) linear Regression \n",
    "reg_lin = make_pipeline(preprocessing.StandardScaler(), LinearRegression())\n",
    "\n",
    "# 2) lasso Regression\n",
    "reg_lasso = make_pipeline(preprocessing.StandardScaler(), Lasso())\n",
    "\n",
    "# 3) rigide Regression\n",
    "reg_rig = make_pipeline(preprocessing.StandardScaler(), Ridge())\n",
    "\n",
    "# 4) logistic Regression\n",
    "reg_log = make_pipeline(preprocessing.StandardScaler(), LogisticRegression())\n",
    "\n",
    "# -------------------------------------------------------------\n",
    "# 5) RandomForest Regression\n",
    "reg_randF = make_pipeline(preprocessing.StandardScaler(), RandomForestRegressor())\n",
    "\n",
    "# 6) SVM model\n",
    "reg_SVR = make_pipeline( preprocessing.StandardScaler(), SVR())\n",
    "\n",
    "# 7) K Nearest Neighbours\n",
    "reg_kNN = make_pipeline(preprocessing.StandardScaler(), KNeighborsRegressor(n_neighbors=3))\n",
    "\n",
    "# 8) Decision Tree\n",
    "reg_DT = make_pipeline(preprocessing.StandardScaler(), DecisionTreeRegressor())\n",
    "\n",
    "# 9) Xgboost\n",
    "reg_XGB = make_pipeline(preprocessing.StandardScaler(), XGBRegressor())\n",
    "\n",
    "\n",
    "# -------------------------------------------------------------\n",
    "# combine all models\n",
    "models_all = [reg_lin, reg_lasso, reg_rig, reg_log, reg_randF, reg_SVR, reg_kNN, reg_DT, reg_XGB]\n",
    "methods = ['LIN', 'LAS', 'RIG', 'LOG', 'RF', 'SVR', 'kNN', 'DT', 'XGB']"
   ]
  },
  {
   "cell_type": "code",
   "execution_count": 14,
   "id": "08e41039",
   "metadata": {},
   "outputs": [
    {
     "name": "stderr",
     "output_type": "stream",
     "text": [
      "/Applications/anaconda3/lib/python3.8/site-packages/sklearn/linear_model/_logistic.py:444: ConvergenceWarning: lbfgs failed to converge (status=1):\n",
      "STOP: TOTAL NO. of ITERATIONS REACHED LIMIT.\n",
      "\n",
      "Increase the number of iterations (max_iter) or scale the data as shown in:\n",
      "    https://scikit-learn.org/stable/modules/preprocessing.html\n",
      "Please also refer to the documentation for alternative solver options:\n",
      "    https://scikit-learn.org/stable/modules/linear_model.html#logistic-regression\n",
      "  n_iter_i = _check_optimize_result(\n"
     ]
    },
    {
     "name": "stdout",
     "output_type": "stream",
     "text": [
      "Model performance without hyperparameter optimization\n",
      "\n"
     ]
    }
   ],
   "source": [
    "# predict model performance for traning and validation data\n",
    "derror = _perdict_model_performance(X_train=X_train_dim, X_valid=X_valid_dim, truth_train=truth_train, truth_valid=truth_valid, \n",
    "                                    methods=methods, models_all=models_all)\n",
    "df_error = pd.concat(derror)\n",
    "\n",
    "# -------------------------------------------------------------\n",
    "print('Model performance without hyperparameter optimization\\n')\n",
    "pd.concat(derror).to_clipboard()"
   ]
  },
  {
   "cell_type": "code",
   "execution_count": null,
   "id": "a1bc1e19",
   "metadata": {},
   "outputs": [],
   "source": [
    "print('Best performing ML algorithm(s)')\n",
    "\n",
    "dT1 = pd.concat(derror).T.filter(like='training').T.sort_values('mae')['mae'][:3].index\n",
    "dT2 = pd.concat(derror).T.filter(like='training').T.sort_values('rmse')['rmse'][:3].index\n",
    "dv1 = pd.concat(derror).T.filter(like='test').T.sort_values('mae')['mae'][:3].index\n",
    "dv2 = pd.concat(derror).T.filter(like='test').T.sort_values('rmse')['rmse'][:3].index\n",
    "\n",
    "print('>> for training data: \\t', sorted(list(dict.fromkeys([v[0] for v in dT1] + [v[0] for v in dT2]))))\n",
    "print('>> for test data: \\t', sorted(list(dict.fromkeys([v[0] for v in dv1] + [v[0] for v in dv2]))))"
   ]
  },
  {
   "cell_type": "code",
   "execution_count": null,
   "id": "5122bc9d",
   "metadata": {},
   "outputs": [],
   "source": []
  }
 ],
 "metadata": {
  "kernelspec": {
   "display_name": "Python 3",
   "language": "python",
   "name": "python3"
  },
  "language_info": {
   "codemirror_mode": {
    "name": "ipython",
    "version": 3
   },
   "file_extension": ".py",
   "mimetype": "text/x-python",
   "name": "python",
   "nbconvert_exporter": "python",
   "pygments_lexer": "ipython3",
   "version": "3.8.8"
  }
 },
 "nbformat": 4,
 "nbformat_minor": 5
}
