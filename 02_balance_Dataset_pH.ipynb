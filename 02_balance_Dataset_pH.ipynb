{
 "cells": [
  {
   "cell_type": "code",
   "execution_count": 66,
   "id": "5488a779",
   "metadata": {},
   "outputs": [],
   "source": [
    "%run function_dbs.py\n",
    "%run MLRegression_dbs.py\n",
    "%matplotlib inline\n",
    "\n",
    "fs, color = 10, 'k'\n",
    "today = ''.join(str(datetime.today()).split(' ')[0].split('-'))"
   ]
  },
  {
   "cell_type": "markdown",
   "id": "ca3091cb",
   "metadata": {},
   "source": [
    "## Load spectral data and calibration information"
   ]
  },
  {
   "cell_type": "code",
   "execution_count": 3,
   "id": "aa39b4c8",
   "metadata": {
    "scrolled": true
   },
   "outputs": [
    {
     "data": {
      "text/html": [
       "<div>\n",
       "<style scoped>\n",
       "    .dataframe tbody tr th:only-of-type {\n",
       "        vertical-align: middle;\n",
       "    }\n",
       "\n",
       "    .dataframe tbody tr th {\n",
       "        vertical-align: top;\n",
       "    }\n",
       "\n",
       "    .dataframe thead th {\n",
       "        text-align: right;\n",
       "    }\n",
       "</style>\n",
       "<table border=\"1\" class=\"dataframe\">\n",
       "  <thead>\n",
       "    <tr style=\"text-align: right;\">\n",
       "      <th></th>\n",
       "      <th>470.0</th>\n",
       "      <th>472.8859</th>\n",
       "      <th>475.7718</th>\n",
       "      <th>478.6577</th>\n",
       "      <th>481.5436</th>\n",
       "      <th>484.4295</th>\n",
       "      <th>487.3154</th>\n",
       "      <th>490.2013</th>\n",
       "      <th>493.0872</th>\n",
       "      <th>495.9732</th>\n",
       "      <th>...</th>\n",
       "      <th>879.7987</th>\n",
       "      <th>882.6846</th>\n",
       "      <th>885.5705</th>\n",
       "      <th>888.4564</th>\n",
       "      <th>891.3423</th>\n",
       "      <th>894.2282</th>\n",
       "      <th>897.1141</th>\n",
       "      <th>900.0</th>\n",
       "      <th>pH</th>\n",
       "      <th>O2 (%O2)</th>\n",
       "    </tr>\n",
       "  </thead>\n",
       "  <tbody>\n",
       "    <tr>\n",
       "      <th>5744</th>\n",
       "      <td>1.053061</td>\n",
       "      <td>1.071795</td>\n",
       "      <td>1.090590</td>\n",
       "      <td>1.109376</td>\n",
       "      <td>1.482563</td>\n",
       "      <td>2.189702</td>\n",
       "      <td>2.117212</td>\n",
       "      <td>2.051199</td>\n",
       "      <td>1.997114</td>\n",
       "      <td>1.908938</td>\n",
       "      <td>...</td>\n",
       "      <td>0.015153</td>\n",
       "      <td>0.015302</td>\n",
       "      <td>0.014168</td>\n",
       "      <td>0.012287</td>\n",
       "      <td>0.013324</td>\n",
       "      <td>0.013512</td>\n",
       "      <td>0.012501</td>\n",
       "      <td>0.013203</td>\n",
       "      <td>4.0</td>\n",
       "      <td>20.40</td>\n",
       "    </tr>\n",
       "    <tr>\n",
       "      <th>4494</th>\n",
       "      <td>0.625128</td>\n",
       "      <td>0.690441</td>\n",
       "      <td>0.755794</td>\n",
       "      <td>1.009764</td>\n",
       "      <td>1.033755</td>\n",
       "      <td>1.345501</td>\n",
       "      <td>1.469205</td>\n",
       "      <td>1.375110</td>\n",
       "      <td>1.175021</td>\n",
       "      <td>1.108304</td>\n",
       "      <td>...</td>\n",
       "      <td>0.020413</td>\n",
       "      <td>0.021399</td>\n",
       "      <td>0.020277</td>\n",
       "      <td>0.020783</td>\n",
       "      <td>0.020483</td>\n",
       "      <td>0.018253</td>\n",
       "      <td>0.016193</td>\n",
       "      <td>0.014920</td>\n",
       "      <td>11.0</td>\n",
       "      <td>6.76</td>\n",
       "    </tr>\n",
       "    <tr>\n",
       "      <th>371</th>\n",
       "      <td>1.232571</td>\n",
       "      <td>1.288634</td>\n",
       "      <td>1.331523</td>\n",
       "      <td>1.285892</td>\n",
       "      <td>1.509359</td>\n",
       "      <td>1.858991</td>\n",
       "      <td>1.985163</td>\n",
       "      <td>1.889815</td>\n",
       "      <td>1.787384</td>\n",
       "      <td>1.812393</td>\n",
       "      <td>...</td>\n",
       "      <td>0.046505</td>\n",
       "      <td>0.045443</td>\n",
       "      <td>0.044713</td>\n",
       "      <td>0.041727</td>\n",
       "      <td>0.038529</td>\n",
       "      <td>0.033887</td>\n",
       "      <td>0.030231</td>\n",
       "      <td>0.028289</td>\n",
       "      <td>8.0</td>\n",
       "      <td>0.00</td>\n",
       "    </tr>\n",
       "    <tr>\n",
       "      <th>1432</th>\n",
       "      <td>0.844568</td>\n",
       "      <td>0.921574</td>\n",
       "      <td>1.120234</td>\n",
       "      <td>1.081477</td>\n",
       "      <td>1.346305</td>\n",
       "      <td>1.721501</td>\n",
       "      <td>1.746720</td>\n",
       "      <td>1.580040</td>\n",
       "      <td>1.571556</td>\n",
       "      <td>1.498782</td>\n",
       "      <td>...</td>\n",
       "      <td>0.050187</td>\n",
       "      <td>0.051651</td>\n",
       "      <td>0.049233</td>\n",
       "      <td>0.047119</td>\n",
       "      <td>0.043788</td>\n",
       "      <td>0.036972</td>\n",
       "      <td>0.032220</td>\n",
       "      <td>0.030366</td>\n",
       "      <td>9.4</td>\n",
       "      <td>0.00</td>\n",
       "    </tr>\n",
       "    <tr>\n",
       "      <th>4533</th>\n",
       "      <td>0.325358</td>\n",
       "      <td>0.460454</td>\n",
       "      <td>0.595579</td>\n",
       "      <td>0.730700</td>\n",
       "      <td>0.953540</td>\n",
       "      <td>1.250886</td>\n",
       "      <td>1.389460</td>\n",
       "      <td>1.383377</td>\n",
       "      <td>1.210324</td>\n",
       "      <td>1.234150</td>\n",
       "      <td>...</td>\n",
       "      <td>0.031474</td>\n",
       "      <td>0.031182</td>\n",
       "      <td>0.030143</td>\n",
       "      <td>0.028416</td>\n",
       "      <td>0.025960</td>\n",
       "      <td>0.023964</td>\n",
       "      <td>0.022621</td>\n",
       "      <td>0.021509</td>\n",
       "      <td>11.0</td>\n",
       "      <td>6.76</td>\n",
       "    </tr>\n",
       "  </tbody>\n",
       "</table>\n",
       "<p>5 rows × 152 columns</p>\n",
       "</div>"
      ],
      "text/plain": [
       "         470.0  472.8859  475.7718  478.6577  481.5436  484.4295  487.3154  \\\n",
       "5744  1.053061  1.071795  1.090590  1.109376  1.482563  2.189702  2.117212   \n",
       "4494  0.625128  0.690441  0.755794  1.009764  1.033755  1.345501  1.469205   \n",
       "371   1.232571  1.288634  1.331523  1.285892  1.509359  1.858991  1.985163   \n",
       "1432  0.844568  0.921574  1.120234  1.081477  1.346305  1.721501  1.746720   \n",
       "4533  0.325358  0.460454  0.595579  0.730700  0.953540  1.250886  1.389460   \n",
       "\n",
       "      490.2013  493.0872  495.9732  ...  879.7987  882.6846  885.5705  \\\n",
       "5744  2.051199  1.997114  1.908938  ...  0.015153  0.015302  0.014168   \n",
       "4494  1.375110  1.175021  1.108304  ...  0.020413  0.021399  0.020277   \n",
       "371   1.889815  1.787384  1.812393  ...  0.046505  0.045443  0.044713   \n",
       "1432  1.580040  1.571556  1.498782  ...  0.050187  0.051651  0.049233   \n",
       "4533  1.383377  1.210324  1.234150  ...  0.031474  0.031182  0.030143   \n",
       "\n",
       "      888.4564  891.3423  894.2282  897.1141     900.0    pH  O2 (%O2)  \n",
       "5744  0.012287  0.013324  0.013512  0.012501  0.013203   4.0     20.40  \n",
       "4494  0.020783  0.020483  0.018253  0.016193  0.014920  11.0      6.76  \n",
       "371   0.041727  0.038529  0.033887  0.030231  0.028289   8.0      0.00  \n",
       "1432  0.047119  0.043788  0.036972  0.032220  0.030366   9.4      0.00  \n",
       "4533  0.028416  0.025960  0.023964  0.022621  0.021509  11.0      6.76  \n",
       "\n",
       "[5 rows x 152 columns]"
      ]
     },
     "execution_count": 3,
     "metadata": {},
     "output_type": "execute_result"
    }
   ],
   "source": [
    "# define path to where to find the absolute fluorescence intensity\n",
    "ddata = pd.read_csv('460nm/20220831_trainingData_absoluteIntensity.csv', index_col=0).astype(float)\n",
    "ddata.columns = [float(i) for i in ddata.columns[:-2]] + ['pH', 'O2 (%O2)']\n",
    "\n",
    "# crop pH data to a range between pH 2-12 \n",
    "df_ = ddata[ddata['pH'] < 12]\n",
    "ddata = df_[df_['pH'] > 2]\n",
    "ddata.index = np.arange(0, len(ddata.index))\n",
    "\n",
    "\n",
    "# fluorescence spectra as features\n",
    "df_features_ = ddata.loc[:, 470:900]\n",
    "\n",
    "# adjust the precision: pH 1xdecimal, O2 1xdecimal\n",
    "target_pH, target_O2 = [round(p,1) for p in ddata['pH']], [round(p,1) for p in ddata['O2 (%O2)']]\n",
    "\n",
    "# --------------------------------\n",
    "ddata.sample(5)"
   ]
  },
  {
   "cell_type": "markdown",
   "id": "c1f54781",
   "metadata": {},
   "source": [
    "Check the inbalance of the data set\n",
    "\n",
    "- pH 7, 4, and 11 are overrepresented\n",
    "- Quick note on how to deal with an imbalanced dataset: https://towardsdatascience.com/how-to-balance-a-dataset-in-python-36dff9d12704"
   ]
  },
  {
   "cell_type": "code",
   "execution_count": 21,
   "id": "8c6c3a9f",
   "metadata": {
    "scrolled": false
   },
   "outputs": [
    {
     "data": {
      "image/png": "[encoded data removed]",
      "text/plain": [
       "<Figure size 360x216 with 1 Axes>"
      ]
     },
     "metadata": {
      "needs_background": "light"
     },
     "output_type": "display_data"
    }
   ],
   "source": [
    "fig, ax = plt.subplots(figsize=(5,3))\n",
    "fig.suptitle('Histogram on measured calibration data >> is your data balanced?', fontsize=9, color=color)\n",
    "\n",
    "ax.hist(target_pH, color='darkorange', label='pH')\n",
    "ax.legend(loc=2, frameon=False, fancybox=False, labelcolor=color)\n",
    "\n",
    "ax.set_ylabel('Counts', color=color), ax.set_xlabel('pH', color=color)\n",
    "ax.tick_params(axis='both', colors=color)\n",
    "plt.tight_layout(pad=0.5)\n",
    "\n",
    "# --------------------------------\n",
    "# fig.savefig('20220926_dataset_Histogram_of_CalibrationPoints.svg', dpi=300, transparent=True)"
   ]
  },
  {
   "cell_type": "markdown",
   "id": "f9fae364",
   "metadata": {},
   "source": [
    "# Prepare data set for pH\n",
    "\n",
    "##### balance data set"
   ]
  },
  {
   "cell_type": "code",
   "execution_count": 9,
   "id": "2694049d",
   "metadata": {},
   "outputs": [
    {
     "name": "stdout",
     "output_type": "stream",
     "text": [
      "raw data available:  6476\n",
      "average sample size for each calibration point:  360\n"
     ]
    }
   ],
   "source": [
    "df_features = pd.concat([df_features_, pd.DataFrame(target_O2, columns=['O2 (%O2)'])], axis=1)\n",
    "df_features.index = pd.DataFrame(target_pH)[0].to_numpy()\n",
    "print('raw data available: ', df_features.shape[0])\n",
    "\n",
    "n_count_median = int(pd.DataFrame(target_pH).value_counts().median())\n",
    "print('average sample size for each calibration point: ', n_count_median)"
   ]
  },
  {
   "cell_type": "code",
   "execution_count": 31,
   "id": "9d36b36c",
   "metadata": {},
   "outputs": [
    {
     "name": "stderr",
     "output_type": "stream",
     "text": [
      "/Applications/anaconda3/lib/python3.8/site-packages/numpy/lib/nanfunctions.py:1113: RuntimeWarning: All-NaN slice encountered\n",
      "  r, k = function_base._ureduce(a, func=_nanmedian, axis=axis, out=out,\n",
      "/Applications/anaconda3/lib/python3.8/site-packages/numpy/lib/nanfunctions.py:1113: RuntimeWarning: All-NaN slice encountered\n",
      "  r, k = function_base._ureduce(a, func=_nanmedian, axis=axis, out=out,\n",
      "/Applications/anaconda3/lib/python3.8/site-packages/numpy/lib/nanfunctions.py:1113: RuntimeWarning: All-NaN slice encountered\n",
      "  r, k = function_base._ureduce(a, func=_nanmedian, axis=axis, out=out,\n"
     ]
    },
    {
     "name": "stdout",
     "output_type": "stream",
     "text": [
      ">> amount of NaNs in data set: 0\n",
      ">> data points available upon balancing: 3720\n"
     ]
    }
   ],
   "source": [
    "### data adjustment\n",
    "\n",
    "# get the pH points that are above the median\n",
    "df_2smooth = pd.DataFrame(target_pH).value_counts()[pd.DataFrame(target_pH).value_counts() > n_count_median]\n",
    "ls_smooth_ph = [x[0] for x in pd.DataFrame(df_2smooth).index]\n",
    "\n",
    "# group prevailing data to larger chunks and smooth spectral information\n",
    "df_ph_sm = data_smoothing(n_count_median=n_count_median, df_features=df_features, ls_smooth=ls_smooth_pH, analyte='pH')  \n",
    "\n",
    "# --------------------------------------------------------------------\n",
    "# re-combine reduced data set to the one that did not get smoothed -> balanced data set\n",
    "ls_ph_remain = list(dict.fromkeys(target_pH)).copy()\n",
    "[ls_ph_remain.remove(o) for o in ls_smooth_ph]\n",
    "\n",
    "df_features.loc[:, 'pH'] = df_features.index\n",
    "df_features_balanced = pd.concat([df_ph_sm, df_features.loc[ls_ph_remain]], axis=0)\n",
    "df_features_balanced = df_features_balanced.sort_index()\n",
    "df_features_ml = df_features_balanced.loc[:, 470:'O2 (%O2)']\n",
    "\n",
    "# --------------------------------------------------------------------\n",
    "# replace NaN values in dataFrame\n",
    "df_features_ml = _replace_nan(df_features_ml, analyte='pH')\n",
    "\n",
    "print('>> amount of NaNs in data set:', df_features_ml.isnull().sum().sum())\n",
    "print('>> data points available upon balancing:', df_features_ml.shape[0])"
   ]
  },
  {
   "cell_type": "markdown",
   "id": "d6c523c5",
   "metadata": {},
   "source": [
    "upon balancing the data set is still not ideal, but it is much bettern than before"
   ]
  },
  {
   "cell_type": "code",
   "execution_count": 32,
   "id": "30a138a2",
   "metadata": {
    "scrolled": false
   },
   "outputs": [
    {
     "name": "stdout",
     "output_type": "stream",
     "text": [
      "the data set is still bit unbalanced, but already much better than before\n"
     ]
    },
    {
     "data": {
      "image/png": "[encoded data removed]",
      "text/plain": [
       "<Figure size 504x216 with 2 Axes>"
      ]
     },
     "metadata": {
      "needs_background": "light"
     },
     "output_type": "display_data"
    }
   ],
   "source": [
    "print('the data set is still bit unbalanced, but already much better than before')\n",
    "\n",
    "# ---------------------------------------------------------------------------------------\n",
    "\n",
    "fig, ax = plt.subplots(figsize=(7,3), ncols=2, sharex=True, sharey=True)\n",
    "fig.suptitle('Histogram on measured calibration data before (a) and after (b) the balancing procedure', fontsize=9, color=color)\n",
    "\n",
    "ax[0].hist(target_pH, color='darkorange', label='pH', alpha=0.5)\n",
    "ax[1].hist(df_features_balanced.index, color='darkorange')\n",
    "ax[0].set_ylabel('Counts', color=color), ax[0].set_xlabel('pH', color=color), ax[1].set_xlabel('pH', color=color)\n",
    "ax[0].tick_params(axis='both', colors=color), ax[1].tick_params(axis='both', colors=color)\n",
    "\n",
    "plt.tight_layout(pad=0.5)\n",
    "\n",
    "# ---------------------------------------------------------------------------------------\n",
    "# save plot\n",
    "# fig.savefig('20220926_balancedData_pH.svg', dpi=300, transparent=True)"
   ]
  },
  {
   "cell_type": "markdown",
   "id": "5b4164eb",
   "metadata": {},
   "source": [
    "## Save data"
   ]
  },
  {
   "cell_type": "code",
   "execution_count": 35,
   "id": "98509bfe",
   "metadata": {},
   "outputs": [],
   "source": [
    "df_features_ml.to_csv(today + '_TrainingData-pH_balanced_absoluteInt.csv', sep='\\t', decimal='.')"
   ]
  },
  {
   "cell_type": "code",
   "execution_count": null,
   "id": "73b1b40a",
   "metadata": {},
   "outputs": [],
   "source": []
  },
  {
   "cell_type": "markdown",
   "id": "2900eefd",
   "metadata": {},
   "source": [
    "## Training data set inspection"
   ]
  },
  {
   "cell_type": "code",
   "execution_count": 39,
   "id": "09df6334",
   "metadata": {},
   "outputs": [
    {
     "name": "stdout",
     "output_type": "stream",
     "text": [
      "in ML a rule of thumbs says that a suitable size for a data set is >1,000 samples\n",
      "size of data sets:\n",
      "> training data   (151, 3348) \n",
      "> validation data (151, 372)\n"
     ]
    }
   ],
   "source": [
    "# split the data into training and validation data\n",
    "y_truth = df_features_ml.index              # n_samples (3720,) chosen analyte\n",
    "X = df_features_ml                          # shape (n_features, n_samples) with (3720, 151)\n",
    "X_train, X_valid, truth_train, truth_valid = train_test_split(X, y_truth, test_size=0.1, random_state=42)\n",
    "X_train, X_valid = X_train.T, X_valid.T\n",
    "\n",
    "print('in ML a rule of thumbs says that a suitable size for a data set is >1,000 samples')\n",
    "print('size of data sets:')\n",
    "print('> training data  ', X_train.shape, '\\n> validation data', X_valid.shape)"
   ]
  },
  {
   "cell_type": "code",
   "execution_count": 40,
   "id": "e3568228",
   "metadata": {},
   "outputs": [
    {
     "name": "stdout",
     "output_type": "stream",
     "text": [
      "[RESULTS]\n",
      "    PCA(n_components=151, random_state=42)\n"
     ]
    }
   ],
   "source": [
    "# PCA as initial check whether a pattern is visible\n",
    "\n",
    "# unsupervised dimension reduction for array-like data sets of shape (n_samples, n_features)\n",
    "pca = PCA(n_components=min(X_train.shape), random_state=42)  \n",
    "pca.fit(np.array(X_train).T)                                \n",
    "\n",
    "# apply transform to dataset\n",
    "X_train_dim_ = pca.transform(np.array(X_train).T)\n",
    "X_valid_dim_ = pca.transform(np.array(X_valid).T)\n",
    "\n",
    "print('[RESULTS]\\n   ', pca)"
   ]
  },
  {
   "cell_type": "markdown",
   "id": "06f909a6",
   "metadata": {},
   "source": [
    "The covariance shows which parameters are more important for separation (the brighter the more important). As it can be seen from the plot the wavelengths between 470-500nm (parameters 0-10) and 730-830 (parameters 91-126) are more important."
   ]
  },
  {
   "cell_type": "code",
   "execution_count": 41,
   "id": "d60db009",
   "metadata": {},
   "outputs": [
    {
     "name": "stdout",
     "output_type": "stream",
     "text": [
      ">> explained variance with PC1-11: 99.950%\n"
     ]
    },
    {
     "data": {
      "image/png": "[encoded data removed]",
      "text/plain": [
       "<Figure size 288x172.8 with 1 Axes>"
      ]
     },
     "metadata": {
      "needs_background": "light"
     },
     "output_type": "display_data"
    }
   ],
   "source": [
    "# which precision is sufficient?\n",
    "precision = .9995\n",
    "\n",
    "# find the PCAs that are needed to match the precision\n",
    "cut = [k+1 for k, c in enumerate(np.cumsum(pca.explained_variance_ratio_)) if c < precision]\n",
    "\n",
    "if len(cut) > 1:\n",
    "    print('>> explained variance with PC1-{}: {:.3f}%'.format(cut[-1]+1, np.cumsum(pca.explained_variance_ratio_)[cut[-1]]*100))\n",
    "    X_train_dim, X_valid_dim = X_train_dim_[:, :cut[-1]+1], X_valid_dim_[:, :cut[-1]+1]\n",
    "else:\n",
    "    X_train_dim, X_valid_dim = X_train_dim_, X_valid_dim_\n",
    "    \n",
    "# ------------------------------------------------------------------------------------------\n",
    "# plot results\n",
    "fig, ax = plt.subplots(figsize=(4,2.4))\n",
    "\n",
    "ax.plot(np.cumsum(pca.explained_variance_ratio_))\n",
    "ax.axhline(precision, lw=0.75, color=color, ls='-.')\n",
    "if len(cut) > 1: \n",
    "    ax.axvline(cut[-1], color=color, lw=0.75, ls='-.')\n",
    "else:\n",
    "    cut = ['']\n",
    "ax.legend(['precision: ' + str(precision*100) + '% - PCA1-{}'.format(cut[-1]+1) ], fontsize=8, frameon=False, labelcolor=color)\n",
    "\n",
    "ax.set_xlabel('Number of components', fontsize=fs, color=color)\n",
    "ax.set_ylabel('Cumulative explained variance', fontsize=fs, color=color)\n",
    "ax.tick_params(labelsize=fs*0.8, labelcolor=color),\n",
    "plt.tight_layout()\n",
    " \n",
    "# ------------------------------------------------------------------------------------------\n",
    "# save plot\n",
    "# fig.savefig('CumVariance-pH_absoluteInt_{}.svg'.format(color), transparent=True, dpi=300)"
   ]
  },
  {
   "cell_type": "code",
   "execution_count": 42,
   "id": "7962e0af",
   "metadata": {},
   "outputs": [
    {
     "data": {
      "image/png": "[encoded data removed]",
      "text/plain": [
       "<Figure size 360x216 with 2 Axes>"
      ]
     },
     "metadata": {
      "needs_background": "light"
     },
     "output_type": "display_data"
    }
   ],
   "source": [
    "fig, ax = plt.subplots(figsize=(5,3))\n",
    "\n",
    "sns.heatmap(pca.get_covariance() / np.nanmean(pca.get_covariance()), ax=ax, vmin=0, vmax=7, cmap='inferno')\n",
    "colorbar = ax.collections[0].colorbar\n",
    "colorbar.ax.tick_params(colors=color)\n",
    "\n",
    "ax.set_xticklabels([int(round(df_features_ml.columns[n*7],0)) for n in np.arange(22)])\n",
    "ax.set_yticklabels([int(round(df_features_ml.columns[n*9],0)) for n in np.arange(17)])\n",
    "\n",
    "ax.tick_params(labelsize=fs*0.8, labelcolor=color)\n",
    "plt.tight_layout(pad=0.5)\n",
    "\n",
    "# ------------------------------------------------------------------------------------------\n",
    "# save plot\n",
    "# fig.savefig('RelativeCovariance-pH_absoutInt_{}.svg'.format(color), transparent=True, dpi=300)"
   ]
  },
  {
   "cell_type": "code",
   "execution_count": null,
   "id": "0f057868",
   "metadata": {},
   "outputs": [],
   "source": []
  },
  {
   "cell_type": "markdown",
   "id": "ea93ae16",
   "metadata": {},
   "source": [
    "## Screening of different ML regression algorithms\n",
    "\n",
    "the performance of the models is compared based on the mean absolute error (MAE) and the root-mean-square deviation/error (RMSE)"
   ]
  },
  {
   "cell_type": "code",
   "execution_count": 43,
   "id": "93d6980d",
   "metadata": {},
   "outputs": [],
   "source": [
    "# 1) linear Regression \n",
    "reg_lin = make_pipeline(preprocessing.StandardScaler(), LinearRegression())\n",
    "\n",
    "# 2) lasso Regression\n",
    "reg_lasso = make_pipeline(preprocessing.StandardScaler(), Lasso())\n",
    "\n",
    "# 3) rigide Regression\n",
    "reg_rig = make_pipeline(preprocessing.StandardScaler(), Ridge())\n",
    "\n",
    "# 4) logistic Regression\n",
    "reg_log = make_pipeline(preprocessing.StandardScaler(), LogisticRegression())\n",
    "\n",
    "# -------------------------------------------------------------\n",
    "# 5) RandomForest Regression\n",
    "reg_randF = make_pipeline(preprocessing.StandardScaler(), RandomForestRegressor())\n",
    "\n",
    "# 6) SVM model\n",
    "reg_SVR = make_pipeline( preprocessing.StandardScaler(), SVR())\n",
    "\n",
    "# 7) K Nearest Neighbours\n",
    "reg_kNN = make_pipeline(preprocessing.StandardScaler(), KNeighborsRegressor(n_neighbors=3))\n",
    "\n",
    "# 8) Decision Tree\n",
    "reg_DT = make_pipeline(preprocessing.StandardScaler(), DecisionTreeRegressor())\n",
    "\n",
    "# 9) Xgboost\n",
    "reg_XGB = make_pipeline(preprocessing.StandardScaler(), XGBRegressor())\n",
    "\n",
    "\n",
    "# -------------------------------------------------------------\n",
    "# combine all models\n",
    "models_all = [reg_lin, reg_lasso, reg_rig, reg_log, reg_randF, reg_SVR, reg_kNN, reg_DT, reg_XGB]\n",
    "methods = ['LIN', 'LAS', 'RIG', 'LOG', 'RF', 'SVR', 'kNN', 'DT', 'XGB']"
   ]
  },
  {
   "cell_type": "code",
   "execution_count": 54,
   "id": "08e41039",
   "metadata": {},
   "outputs": [
    {
     "name": "stderr",
     "output_type": "stream",
     "text": [
      "/Applications/anaconda3/lib/python3.8/site-packages/sklearn/linear_model/_logistic.py:444: ConvergenceWarning: lbfgs failed to converge (status=1):\n",
      "STOP: TOTAL NO. of ITERATIONS REACHED LIMIT.\n",
      "\n",
      "Increase the number of iterations (max_iter) or scale the data as shown in:\n",
      "    https://scikit-learn.org/stable/modules/preprocessing.html\n",
      "Please also refer to the documentation for alternative solver options:\n",
      "    https://scikit-learn.org/stable/modules/linear_model.html#logistic-regression\n",
      "  n_iter_i = _check_optimize_result(\n"
     ]
    },
    {
     "name": "stdout",
     "output_type": "stream",
     "text": [
      "Model performance without hyperparameter optimization\n",
      "\n"
     ]
    },
    {
     "data": {
      "text/html": [
       "<div>\n",
       "<style scoped>\n",
       "    .dataframe tbody tr th:only-of-type {\n",
       "        vertical-align: middle;\n",
       "    }\n",
       "\n",
       "    .dataframe tbody tr th {\n",
       "        vertical-align: top;\n",
       "    }\n",
       "\n",
       "    .dataframe thead th {\n",
       "        text-align: right;\n",
       "    }\n",
       "</style>\n",
       "<table border=\"1\" class=\"dataframe\">\n",
       "  <thead>\n",
       "    <tr style=\"text-align: right;\">\n",
       "      <th></th>\n",
       "      <th></th>\n",
       "      <th>mae</th>\n",
       "      <th>rmse</th>\n",
       "      <th>sdz</th>\n",
       "    </tr>\n",
       "  </thead>\n",
       "  <tbody>\n",
       "    <tr>\n",
       "      <th rowspan=\"2\" valign=\"top\">LinearRegression</th>\n",
       "      <th>training</th>\n",
       "      <td>4.597554e-01</td>\n",
       "      <td>6.031050e-01</td>\n",
       "      <td>1.148285e-01</td>\n",
       "    </tr>\n",
       "    <tr>\n",
       "      <th>test</th>\n",
       "      <td>4.944791e-01</td>\n",
       "      <td>6.603069e-01</td>\n",
       "      <td>1.379756e-01</td>\n",
       "    </tr>\n",
       "    <tr>\n",
       "      <th rowspan=\"2\" valign=\"top\">Lasso</th>\n",
       "      <th>training</th>\n",
       "      <td>1.300829e+00</td>\n",
       "      <td>1.561641e+00</td>\n",
       "      <td>2.784733e-01</td>\n",
       "    </tr>\n",
       "    <tr>\n",
       "      <th>test</th>\n",
       "      <td>1.379116e+00</td>\n",
       "      <td>1.658268e+00</td>\n",
       "      <td>3.197848e-01</td>\n",
       "    </tr>\n",
       "    <tr>\n",
       "      <th rowspan=\"2\" valign=\"top\">Ridge</th>\n",
       "      <th>training</th>\n",
       "      <td>4.597032e-01</td>\n",
       "      <td>6.031053e-01</td>\n",
       "      <td>1.148541e-01</td>\n",
       "    </tr>\n",
       "    <tr>\n",
       "      <th>test</th>\n",
       "      <td>4.944636e-01</td>\n",
       "      <td>6.603773e-01</td>\n",
       "      <td>1.380157e-01</td>\n",
       "    </tr>\n",
       "    <tr>\n",
       "      <th rowspan=\"2\" valign=\"top\">LogisticRegression</th>\n",
       "      <th>training</th>\n",
       "      <td>3.492533e+01</td>\n",
       "      <td>7.255513e+01</td>\n",
       "      <td>1.429448e-01</td>\n",
       "    </tr>\n",
       "    <tr>\n",
       "      <th>test</th>\n",
       "      <td>3.736559e+01</td>\n",
       "      <td>7.987221e+01</td>\n",
       "      <td>1.753662e-01</td>\n",
       "    </tr>\n",
       "    <tr>\n",
       "      <th rowspan=\"2\" valign=\"top\">RandomForestRegressor</th>\n",
       "      <th>training</th>\n",
       "      <td>1.087903e-01</td>\n",
       "      <td>1.758328e-01</td>\n",
       "      <td>2.991611e-02</td>\n",
       "    </tr>\n",
       "    <tr>\n",
       "      <th>test</th>\n",
       "      <td>2.966962e-01</td>\n",
       "      <td>5.050076e-01</td>\n",
       "      <td>9.060014e-02</td>\n",
       "    </tr>\n",
       "    <tr>\n",
       "      <th rowspan=\"2\" valign=\"top\">SVR</th>\n",
       "      <th>training</th>\n",
       "      <td>2.920275e-01</td>\n",
       "      <td>4.274045e-01</td>\n",
       "      <td>8.195175e-02</td>\n",
       "    </tr>\n",
       "    <tr>\n",
       "      <th>test</th>\n",
       "      <td>3.841399e-01</td>\n",
       "      <td>5.642850e-01</td>\n",
       "      <td>1.171841e-01</td>\n",
       "    </tr>\n",
       "    <tr>\n",
       "      <th rowspan=\"2\" valign=\"top\">KNeighborsRegressor</th>\n",
       "      <th>training</th>\n",
       "      <td>3.184289e-01</td>\n",
       "      <td>4.915950e-01</td>\n",
       "      <td>8.457894e-02</td>\n",
       "    </tr>\n",
       "    <tr>\n",
       "      <th>test</th>\n",
       "      <td>4.724910e-01</td>\n",
       "      <td>7.617165e-01</td>\n",
       "      <td>1.527449e-01</td>\n",
       "    </tr>\n",
       "    <tr>\n",
       "      <th rowspan=\"2\" valign=\"top\">DecisionTreeRegressor</th>\n",
       "      <th>training</th>\n",
       "      <td>7.083143e-17</td>\n",
       "      <td>4.289760e-16</td>\n",
       "      <td>5.696170e-17</td>\n",
       "    </tr>\n",
       "    <tr>\n",
       "      <th>test</th>\n",
       "      <td>3.250000e-01</td>\n",
       "      <td>6.664986e-01</td>\n",
       "      <td>1.124629e-01</td>\n",
       "    </tr>\n",
       "    <tr>\n",
       "      <th rowspan=\"2\" valign=\"top\">XGBRegressor</th>\n",
       "      <th>training</th>\n",
       "      <td>7.117953e-02</td>\n",
       "      <td>1.003588e-01</td>\n",
       "      <td>1.424764e-02</td>\n",
       "    </tr>\n",
       "    <tr>\n",
       "      <th>test</th>\n",
       "      <td>3.236245e-01</td>\n",
       "      <td>4.746765e-01</td>\n",
       "      <td>8.217478e-02</td>\n",
       "    </tr>\n",
       "  </tbody>\n",
       "</table>\n",
       "</div>"
      ],
      "text/plain": [
       "                                         mae          rmse           sdz\n",
       "LinearRegression      training  4.597554e-01  6.031050e-01  1.148285e-01\n",
       "                      test      4.944791e-01  6.603069e-01  1.379756e-01\n",
       "Lasso                 training  1.300829e+00  1.561641e+00  2.784733e-01\n",
       "                      test      1.379116e+00  1.658268e+00  3.197848e-01\n",
       "Ridge                 training  4.597032e-01  6.031053e-01  1.148541e-01\n",
       "                      test      4.944636e-01  6.603773e-01  1.380157e-01\n",
       "LogisticRegression    training  3.492533e+01  7.255513e+01  1.429448e-01\n",
       "                      test      3.736559e+01  7.987221e+01  1.753662e-01\n",
       "RandomForestRegressor training  1.087903e-01  1.758328e-01  2.991611e-02\n",
       "                      test      2.966962e-01  5.050076e-01  9.060014e-02\n",
       "SVR                   training  2.920275e-01  4.274045e-01  8.195175e-02\n",
       "                      test      3.841399e-01  5.642850e-01  1.171841e-01\n",
       "KNeighborsRegressor   training  3.184289e-01  4.915950e-01  8.457894e-02\n",
       "                      test      4.724910e-01  7.617165e-01  1.527449e-01\n",
       "DecisionTreeRegressor training  7.083143e-17  4.289760e-16  5.696170e-17\n",
       "                      test      3.250000e-01  6.664986e-01  1.124629e-01\n",
       "XGBRegressor          training  7.117953e-02  1.003588e-01  1.424764e-02\n",
       "                      test      3.236245e-01  4.746765e-01  8.217478e-02"
      ]
     },
     "execution_count": 54,
     "metadata": {},
     "output_type": "execute_result"
    }
   ],
   "source": [
    "# predict model performance for traning and validation data\n",
    "derror = _perdict_model_performance(X_train=X_train_dim, X_valid=X_valid_dim, truth_train=truth_train, truth_valid=truth_valid, \n",
    "                                    methods=methods, models_all=models_all)\n",
    "df_error = pd.concat(derror)\n",
    "\n",
    "# -------------------------------------------------------------\n",
    "print('Model performance without hyperparameter optimization\\n')\n",
    "pd.concat(derror)"
   ]
  },
  {
   "cell_type": "code",
   "execution_count": 110,
   "id": "a1bc1e19",
   "metadata": {},
   "outputs": [
    {
     "name": "stdout",
     "output_type": "stream",
     "text": [
      "Best performing ML algorithm(s)\n",
      ">> for training data: \t ['DecisionTreeRegressor', 'RandomForestRegressor', 'XGBRegressor']\n",
      ">> for test data: \t ['DecisionTreeRegressor', 'RandomForestRegressor', 'SVR', 'XGBRegressor']\n"
     ]
    }
   ],
   "source": [
    "print('Best performing ML algorithm(s)')\n",
    "\n",
    "dT1 = pd.concat(derror).T.filter(like='training').T.sort_values('mae')['mae'][:3].index\n",
    "dT2 = pd.concat(derror).T.filter(like='training').T.sort_values('rmse')['rmse'][:3].index\n",
    "dv1 = pd.concat(derror).T.filter(like='test').T.sort_values('mae')['mae'][:3].index\n",
    "dv2 = pd.concat(derror).T.filter(like='test').T.sort_values('rmse')['rmse'][:3].index\n",
    "\n",
    "print('>> for training data: \\t', sorted(list(dict.fromkeys([v[0] for v in dT1] + [v[0] for v in dT2]))))\n",
    "print('>> for test data: \\t', sorted(list(dict.fromkeys([v[0] for v in dv1] + [v[0] for v in dv2]))))"
   ]
  },
  {
   "cell_type": "code",
   "execution_count": null,
   "id": "5122bc9d",
   "metadata": {},
   "outputs": [],
   "source": []
  }
 ],
 "metadata": {
  "kernelspec": {
   "display_name": "Python 3",
   "language": "python",
   "name": "python3"
  },
  "language_info": {
   "codemirror_mode": {
    "name": "ipython",
    "version": 3
   },
   "file_extension": ".py",
   "mimetype": "text/x-python",
   "name": "python",
   "nbconvert_exporter": "python",
   "pygments_lexer": "ipython3",
   "version": "3.8.8"
  }
 },
 "nbformat": 4,
 "nbformat_minor": 5
}
