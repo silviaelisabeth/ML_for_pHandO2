{
 "cells": [
  {
   "cell_type": "code",
   "execution_count": 71,
   "id": "5488a779",
   "metadata": {},
   "outputs": [],
   "source": [
    "%run function_dbs.py\n",
    "%run MLRegression_dbs.py\n",
    "%matplotlib inline\n",
    "\n",
    "fs, color = 10, 'k'\n",
    "today = ''.join(str(datetime.today()).split(' ')[0].split('-'))"
   ]
  },
  {
   "cell_type": "markdown",
   "id": "ca3091cb",
   "metadata": {},
   "source": [
    "## load spectral data and calibration information"
   ]
  },
  {
   "cell_type": "code",
   "execution_count": 11,
   "id": "aa39b4c8",
   "metadata": {},
   "outputs": [
    {
     "data": {
      "text/html": [
       "<div>\n",
       "<style scoped>\n",
       "    .dataframe tbody tr th:only-of-type {\n",
       "        vertical-align: middle;\n",
       "    }\n",
       "\n",
       "    .dataframe tbody tr th {\n",
       "        vertical-align: top;\n",
       "    }\n",
       "\n",
       "    .dataframe thead th {\n",
       "        text-align: right;\n",
       "    }\n",
       "</style>\n",
       "<table border=\"1\" class=\"dataframe\">\n",
       "  <thead>\n",
       "    <tr style=\"text-align: right;\">\n",
       "      <th></th>\n",
       "      <th>470.0</th>\n",
       "      <th>472.8859</th>\n",
       "      <th>475.7718</th>\n",
       "      <th>478.6577</th>\n",
       "      <th>481.5436</th>\n",
       "      <th>484.4295</th>\n",
       "      <th>487.3154</th>\n",
       "      <th>490.2013</th>\n",
       "      <th>493.0872</th>\n",
       "      <th>495.9732</th>\n",
       "      <th>...</th>\n",
       "      <th>879.7987</th>\n",
       "      <th>882.6846</th>\n",
       "      <th>885.5705</th>\n",
       "      <th>888.4564</th>\n",
       "      <th>891.3423</th>\n",
       "      <th>894.2282</th>\n",
       "      <th>897.1141</th>\n",
       "      <th>900.0</th>\n",
       "      <th>pH</th>\n",
       "      <th>O2 (%O2)</th>\n",
       "    </tr>\n",
       "  </thead>\n",
       "  <tbody>\n",
       "    <tr>\n",
       "      <th>0</th>\n",
       "      <td>0.627993</td>\n",
       "      <td>0.786419</td>\n",
       "      <td>0.857007</td>\n",
       "      <td>1.009259</td>\n",
       "      <td>1.208525</td>\n",
       "      <td>1.668691</td>\n",
       "      <td>1.633192</td>\n",
       "      <td>1.607212</td>\n",
       "      <td>1.570307</td>\n",
       "      <td>1.635793</td>\n",
       "      <td>...</td>\n",
       "      <td>0.035707</td>\n",
       "      <td>0.034556</td>\n",
       "      <td>0.033926</td>\n",
       "      <td>0.033197</td>\n",
       "      <td>0.029638</td>\n",
       "      <td>0.026824</td>\n",
       "      <td>0.024484</td>\n",
       "      <td>0.022881</td>\n",
       "      <td>7.0</td>\n",
       "      <td>6.01</td>\n",
       "    </tr>\n",
       "    <tr>\n",
       "      <th>1</th>\n",
       "      <td>0.694880</td>\n",
       "      <td>0.943585</td>\n",
       "      <td>1.030970</td>\n",
       "      <td>1.118346</td>\n",
       "      <td>1.360172</td>\n",
       "      <td>1.732881</td>\n",
       "      <td>1.903371</td>\n",
       "      <td>1.945338</td>\n",
       "      <td>1.857719</td>\n",
       "      <td>1.744565</td>\n",
       "      <td>...</td>\n",
       "      <td>0.039210</td>\n",
       "      <td>0.039139</td>\n",
       "      <td>0.035852</td>\n",
       "      <td>0.034511</td>\n",
       "      <td>0.032512</td>\n",
       "      <td>0.029335</td>\n",
       "      <td>0.026468</td>\n",
       "      <td>0.025315</td>\n",
       "      <td>7.0</td>\n",
       "      <td>6.01</td>\n",
       "    </tr>\n",
       "    <tr>\n",
       "      <th>2</th>\n",
       "      <td>0.427785</td>\n",
       "      <td>0.518845</td>\n",
       "      <td>0.846070</td>\n",
       "      <td>0.912887</td>\n",
       "      <td>1.217220</td>\n",
       "      <td>1.579858</td>\n",
       "      <td>1.616807</td>\n",
       "      <td>1.691709</td>\n",
       "      <td>1.653757</td>\n",
       "      <td>1.591611</td>\n",
       "      <td>...</td>\n",
       "      <td>0.032027</td>\n",
       "      <td>0.032745</td>\n",
       "      <td>0.032808</td>\n",
       "      <td>0.030662</td>\n",
       "      <td>0.026061</td>\n",
       "      <td>0.023218</td>\n",
       "      <td>0.021797</td>\n",
       "      <td>0.021212</td>\n",
       "      <td>7.0</td>\n",
       "      <td>6.01</td>\n",
       "    </tr>\n",
       "    <tr>\n",
       "      <th>3</th>\n",
       "      <td>0.676768</td>\n",
       "      <td>0.894154</td>\n",
       "      <td>1.109482</td>\n",
       "      <td>1.324799</td>\n",
       "      <td>1.515610</td>\n",
       "      <td>1.622339</td>\n",
       "      <td>1.627091</td>\n",
       "      <td>1.709985</td>\n",
       "      <td>1.769908</td>\n",
       "      <td>1.692980</td>\n",
       "      <td>...</td>\n",
       "      <td>0.036324</td>\n",
       "      <td>0.036585</td>\n",
       "      <td>0.035338</td>\n",
       "      <td>0.031950</td>\n",
       "      <td>0.027525</td>\n",
       "      <td>0.024393</td>\n",
       "      <td>0.021351</td>\n",
       "      <td>0.019873</td>\n",
       "      <td>7.0</td>\n",
       "      <td>6.01</td>\n",
       "    </tr>\n",
       "    <tr>\n",
       "      <th>4</th>\n",
       "      <td>0.826063</td>\n",
       "      <td>0.940941</td>\n",
       "      <td>0.918367</td>\n",
       "      <td>0.932857</td>\n",
       "      <td>1.273592</td>\n",
       "      <td>1.556148</td>\n",
       "      <td>1.644203</td>\n",
       "      <td>1.688227</td>\n",
       "      <td>1.474947</td>\n",
       "      <td>1.443371</td>\n",
       "      <td>...</td>\n",
       "      <td>0.033894</td>\n",
       "      <td>0.033062</td>\n",
       "      <td>0.032154</td>\n",
       "      <td>0.029812</td>\n",
       "      <td>0.028457</td>\n",
       "      <td>0.027119</td>\n",
       "      <td>0.024030</td>\n",
       "      <td>0.021251</td>\n",
       "      <td>7.0</td>\n",
       "      <td>6.01</td>\n",
       "    </tr>\n",
       "  </tbody>\n",
       "</table>\n",
       "<p>5 rows × 152 columns</p>\n",
       "</div>"
      ],
      "text/plain": [
       "      470.0  472.8859  475.7718  478.6577  481.5436  484.4295  487.3154  \\\n",
       "0  0.627993  0.786419  0.857007  1.009259  1.208525  1.668691  1.633192   \n",
       "1  0.694880  0.943585  1.030970  1.118346  1.360172  1.732881  1.903371   \n",
       "2  0.427785  0.518845  0.846070  0.912887  1.217220  1.579858  1.616807   \n",
       "3  0.676768  0.894154  1.109482  1.324799  1.515610  1.622339  1.627091   \n",
       "4  0.826063  0.940941  0.918367  0.932857  1.273592  1.556148  1.644203   \n",
       "\n",
       "   490.2013  493.0872  495.9732  ...  879.7987  882.6846  885.5705  888.4564  \\\n",
       "0  1.607212  1.570307  1.635793  ...  0.035707  0.034556  0.033926  0.033197   \n",
       "1  1.945338  1.857719  1.744565  ...  0.039210  0.039139  0.035852  0.034511   \n",
       "2  1.691709  1.653757  1.591611  ...  0.032027  0.032745  0.032808  0.030662   \n",
       "3  1.709985  1.769908  1.692980  ...  0.036324  0.036585  0.035338  0.031950   \n",
       "4  1.688227  1.474947  1.443371  ...  0.033894  0.033062  0.032154  0.029812   \n",
       "\n",
       "   891.3423  894.2282  897.1141     900.0   pH  O2 (%O2)  \n",
       "0  0.029638  0.026824  0.024484  0.022881  7.0      6.01  \n",
       "1  0.032512  0.029335  0.026468  0.025315  7.0      6.01  \n",
       "2  0.026061  0.023218  0.021797  0.021212  7.0      6.01  \n",
       "3  0.027525  0.024393  0.021351  0.019873  7.0      6.01  \n",
       "4  0.028457  0.027119  0.024030  0.021251  7.0      6.01  \n",
       "\n",
       "[5 rows x 152 columns]"
      ]
     },
     "execution_count": 11,
     "metadata": {},
     "output_type": "execute_result"
    }
   ],
   "source": [
    "# define path to where to find the absolute fluorescence intensity\n",
    "ddata = pd.read_csv('460nm/20220831_trainingData_absoluteIntensity.csv', index_col=0).astype(float)\n",
    "ddata.columns = [float(i) for i in ddata.columns[:-2]] + ['pH', 'O2 (%O2)']\n",
    "\n",
    "# fluorescence spectra as features\n",
    "df_features_ = ddata.loc[:, 470:900]\n",
    "\n",
    "# adjust the precision: pH 1xdecimal, O2 1xdecimal\n",
    "target_pH, target_O2 = [round(p,1) for p in ddata['pH']], [round(p,0) for p in ddata['O2 (%O2)']]\n",
    "\n",
    "# --------------------------------\n",
    "ddata.head(5)"
   ]
  },
  {
   "cell_type": "markdown",
   "id": "c1f54781",
   "metadata": {},
   "source": [
    "Check the inbalance of the data set \n",
    "\n",
    "- O2 is highly imbalanced in particular for 0% and 20%\n",
    "- Quick note on how to deal with an imbalanced dataset: https://towardsdatascience.com/how-to-balance-a-dataset-in-python-36dff9d12704"
   ]
  },
  {
   "cell_type": "code",
   "execution_count": 25,
   "id": "8c6c3a9f",
   "metadata": {
    "scrolled": false
   },
   "outputs": [
    {
     "data": {
      "image/png": "[encoded data removed]",
      "text/plain": [
       "<Figure size 360x216 with 1 Axes>"
      ]
     },
     "metadata": {
      "needs_background": "light"
     },
     "output_type": "display_data"
    }
   ],
   "source": [
    "fig, ax = plt.subplots(figsize=(5,3))\n",
    "fig.suptitle('Histogram on measured calibration data >> is your data balanced?', fontsize=9)\n",
    "\n",
    "ax.hist(target_O2, color='slategrey', label='O2')\n",
    "ax.legend(loc=2)\n",
    "ax.set_ylabel('Counts'), ax.set_xlabel('O2 (%O2)')\n",
    "plt.tight_layout(pad=0.5)"
   ]
  },
  {
   "cell_type": "markdown",
   "id": "f9fae364",
   "metadata": {},
   "source": [
    "# Prepare data set for O2\n",
    "\n",
    "##### balance data set"
   ]
  },
  {
   "cell_type": "code",
   "execution_count": 16,
   "id": "065ffd68",
   "metadata": {},
   "outputs": [
    {
     "name": "stdout",
     "output_type": "stream",
     "text": [
      "raw data available:  7196\n",
      "average sample size for each calibration point:  447\n"
     ]
    }
   ],
   "source": [
    "df_features = pd.concat([df_features_, pd.DataFrame(target_pH, columns=['pH'])], axis=1)\n",
    "df_features.index = pd.DataFrame(target_O2)[0].to_numpy()\n",
    "print('raw data available: ', df_features.shape[0])\n",
    "\n",
    "n_count_median = int(pd.DataFrame(target_O2).value_counts().median())\n",
    "print('average sample size for each calibration point: ', n_count_median)"
   ]
  },
  {
   "cell_type": "code",
   "execution_count": 35,
   "id": "652225d8",
   "metadata": {},
   "outputs": [
    {
     "name": "stderr",
     "output_type": "stream",
     "text": [
      "/Applications/anaconda3/lib/python3.8/site-packages/numpy/lib/nanfunctions.py:1113: RuntimeWarning: All-NaN slice encountered\n",
      "  r, k = function_base._ureduce(a, func=_nanmedian, axis=axis, out=out,\n",
      "/Applications/anaconda3/lib/python3.8/site-packages/numpy/lib/nanfunctions.py:1113: RuntimeWarning: All-NaN slice encountered\n",
      "  r, k = function_base._ureduce(a, func=_nanmedian, axis=axis, out=out,\n",
      "/Applications/anaconda3/lib/python3.8/site-packages/numpy/lib/nanfunctions.py:1113: RuntimeWarning: All-NaN slice encountered\n",
      "  r, k = function_base._ureduce(a, func=_nanmedian, axis=axis, out=out,\n"
     ]
    },
    {
     "name": "stdout",
     "output_type": "stream",
     "text": [
      ">> amount of NaNs in data set: 0\n",
      ">> data points available upon balancing: 2506\n"
     ]
    }
   ],
   "source": [
    "### data adjustment\n",
    "\n",
    "# get the O2 points that are above the median\n",
    "df_2smooth = pd.DataFrame(target_O2).value_counts()[pd.DataFrame(target_O2).value_counts() > n_count_median]\n",
    "ls_smooth_O2 = [x[0] for x in pd.DataFrame(df_2smooth).index]\n",
    "\n",
    "# group prevailing data to larger chunks and smooth spectral information\n",
    "df_ox_sm = data_smoothing(n_count_median=n_count_median, df_features=df_features, ls_smooth=ls_smooth_O2, analyte='O2')  \n",
    "\n",
    "# --------------------------------------------------------------------\n",
    "# re-combine reduced data set to the one that did not get smoothed -> balanced data set\n",
    "ls_O2_remain = list(dict.fromkeys(target_O2)).copy()\n",
    "[ls_O2_remain.remove(o) for o in ls_smooth_O2]\n",
    "\n",
    "df_features.loc[:, 'O2 (%O2)'] = df_features.index\n",
    "df_features_balanced = pd.concat([df_ox_sm, df_features.loc[ls_O2_remain]], axis=0)\n",
    "df_features_balanced = df_features_balanced.sort_index()\n",
    "df_features_ml = df_features_balanced.loc[:, 470:'pH']\n",
    "\n",
    "# --------------------------------------------------------------------\n",
    "# replace NaN values in dataFrame\n",
    "df_features_ml = _replace_nan(df_features_ml, analyte='O2 (%O2)')\n",
    "\n",
    "print('>> amount of NaNs in data set:', df_features_ml.isnull().sum().sum())\n",
    "print('>> data points available upon balancing:', df_features_ml.shape[0])"
   ]
  },
  {
   "cell_type": "code",
   "execution_count": 73,
   "id": "30a138a2",
   "metadata": {
    "scrolled": false
   },
   "outputs": [
    {
     "name": "stdout",
     "output_type": "stream",
     "text": [
      "the data set is still bit unbalanced, but already much better than before\n"
     ]
    },
    {
     "data": {
      "image/png": "[encoded data removed]",
      "text/plain": [
       "<Figure size 504x216 with 2 Axes>"
      ]
     },
     "metadata": {
      "needs_background": "light"
     },
     "output_type": "display_data"
    }
   ],
   "source": [
    "print('the data set is still bit unbalanced, but already much better than before')\n",
    "\n",
    "# ---------------------------------------------------------------------------------------\n",
    "fig, ax = plt.subplots(figsize=(7,3), ncols=2, sharex=True, sharey=True)\n",
    "fig.suptitle('Histogram on measured calibration data before (a) and after (b) the balancing procedure', fontsize=9, color=color)\n",
    "\n",
    "ax[0].hist(target_O2, color='slategrey', label='O2', alpha=0.5)\n",
    "ax[1].hist(df_features_ml.index, color='slategrey')\n",
    "ax[0].set_ylabel('Counts', color=color), ax[0].set_xlabel('O2 (%O2)', color=color), ax[1].set_xlabel('O2 (%O2)', color=color)\n",
    "ax[0].tick_params(axis='both', colors=color), ax[1].tick_params(axis='both', colors=color)\n",
    "\n",
    "plt.tight_layout(pad=0.5)\n",
    "\n",
    "# ---------------------------------------------------------------------------------------\n",
    "# save plot\n",
    "# fig.savefig('BalancedData_O2.svg', transparent=True, dpi=300)"
   ]
  },
  {
   "cell_type": "markdown",
   "id": "bab4d429",
   "metadata": {},
   "source": [
    "## Save balanced data set"
   ]
  },
  {
   "cell_type": "code",
   "execution_count": 74,
   "id": "5ae8bcf1",
   "metadata": {},
   "outputs": [],
   "source": [
    "df_features_ml.to_csv(today + '_TrainingData-O2_balanced_absoluteInt.csv', sep='\\t', decimal='.')"
   ]
  },
  {
   "cell_type": "code",
   "execution_count": null,
   "id": "327c6423",
   "metadata": {},
   "outputs": [],
   "source": []
  },
  {
   "cell_type": "markdown",
   "id": "5937fdfd",
   "metadata": {},
   "source": [
    "## Training data set inspection"
   ]
  },
  {
   "cell_type": "code",
   "execution_count": 88,
   "id": "09df6334",
   "metadata": {},
   "outputs": [
    {
     "name": "stdout",
     "output_type": "stream",
     "text": [
      "in ML a rule of thumbs says that a suitable size for a data set is >1,000 samples\n",
      "size of data sets:\n",
      "> training data   (151, 2255) \n",
      "> validation data (151, 251)\n"
     ]
    }
   ],
   "source": [
    "# split the data into training and validation data\n",
    "y_truth = df_features_ml.index              # n_samples (2506,) chosen analyte\n",
    "X = df_features_ml                          # shape (n_features, n_samples) with (2506, 151)\n",
    "\n",
    "X_train, X_valid, truth_train, truth_valid = train_test_split(X, y_truth, test_size=0.1, random_state=42)\n",
    "X_train, X_valid = X_train.T, X_valid.T\n",
    "\n",
    "print('in ML a rule of thumbs says that a suitable size for a data set is >1,000 samples')\n",
    "print('size of data sets:')\n",
    "print('> training data  ', X_train.shape, '\\n> validation data', X_valid.shape)"
   ]
  },
  {
   "cell_type": "code",
   "execution_count": 77,
   "id": "78103619",
   "metadata": {},
   "outputs": [
    {
     "name": "stdout",
     "output_type": "stream",
     "text": [
      "[RESULTS]\n",
      "    PCA(n_components=151, random_state=42)\n"
     ]
    }
   ],
   "source": [
    "# PCA as initial check whether a pattern is visible\n",
    "\n",
    "# unsupervised dimension reduction for array-like data sets of shape (n_samples, n_features)\n",
    "pca = PCA(n_components=min(X_train.shape), random_state=42)  \n",
    "pca.fit(np.array(X_train).T)                                \n",
    "\n",
    "# apply transform to dataset\n",
    "X_train_dim_ = pca.transform(np.array(X_train).T)\n",
    "X_valid_dim_ = pca.transform(np.array(X_valid).T)\n",
    "\n",
    "print('[RESULTS]\\n   ', pca)"
   ]
  },
  {
   "cell_type": "markdown",
   "id": "06f909a6",
   "metadata": {},
   "source": [
    "The covariance shows which parameters are more important for separation (the brighter the more important). As it can be seen from the plot the wavelengths between 470-500nm (parameters 0-10) and 730-830 (parameters 91-126) are more important."
   ]
  },
  {
   "cell_type": "code",
   "execution_count": 78,
   "id": "c16ab432",
   "metadata": {
    "scrolled": false
   },
   "outputs": [
    {
     "name": "stdout",
     "output_type": "stream",
     "text": [
      ">> explained variance with PC1-22: 99.951%\n"
     ]
    },
    {
     "data": {
      "image/png": "[encoded data removed]",
      "text/plain": [
       "<Figure size 288x172.8 with 1 Axes>"
      ]
     },
     "metadata": {
      "needs_background": "light"
     },
     "output_type": "display_data"
    }
   ],
   "source": [
    "# which precision is sufficient?\n",
    "precision = .9995\n",
    "\n",
    "# find the PCAs that are needed to match the precision\n",
    "cut = [k+1 for k, c in enumerate(np.cumsum(pca.explained_variance_ratio_)) if c < precision]\n",
    "\n",
    "if len(cut) > 1:\n",
    "    print('>> explained variance with PC1-{}: {:.3f}%'.format(cut[-1]+1, np.cumsum(pca.explained_variance_ratio_)[cut[-1]]*100))\n",
    "    X_train_dim, X_valid_dim = X_train_dim_[:, :cut[-1]+1], X_valid_dim_[:, :cut[-1]+1]\n",
    "else:\n",
    "    X_train_dim, X_valid_dim = X_train_dim_, X_valid_dim_\n",
    "    \n",
    "# ------------------------------------------------------------------------------------------\n",
    "# plot results\n",
    "fig, ax = plt.subplots(figsize=(4,2.4))\n",
    "\n",
    "ax.plot(np.cumsum(pca.explained_variance_ratio_))\n",
    "ax.axhline(precision, lw=0.75, color=color, ls='-.')\n",
    "if len(cut) > 1: \n",
    "    ax.axvline(cut[-1], color=color, lw=0.75, ls='-.')\n",
    "else:\n",
    "    cut = ['']\n",
    "ax.legend(['precision: ' + str(precision*100) + '% - PCA1-{}'.format(cut[-1]+1) ], fontsize=8, frameon=False, labelcolor=color)\n",
    "\n",
    "ax.set_xlabel('Number of components', fontsize=fs, color=color)\n",
    "ax.set_ylabel('Cumulative explained variance', fontsize=fs, color=color)\n",
    "ax.tick_params(labelsize=fs*0.8, labelcolor=color),\n",
    "plt.tight_layout()\n",
    " \n",
    "# ------------------------------------------------------------------------------------------\n",
    "# save plot\n",
    "# fig.savefig('CumVariance-O2_absoluteInt_{}.svg'.format(color), transparent=True, dpi=300)"
   ]
  },
  {
   "cell_type": "code",
   "execution_count": 13,
   "id": "b6903188",
   "metadata": {
    "scrolled": false
   },
   "outputs": [
    {
     "data": {
      "image/png": "[encoded data removed]",
      "text/plain": [
       "<Figure size 360x216 with 2 Axes>"
      ]
     },
     "metadata": {
      "needs_background": "light"
     },
     "output_type": "display_data"
    }
   ],
   "source": [
    "fig, ax = plt.subplots(figsize=(5,3))\n",
    "\n",
    "sns.heatmap(pca.get_covariance() / np.nanmean(pca.get_covariance()), ax=ax, vmin=0, vmax=7, cmap='inferno')\n",
    "colorbar = ax.collections[0].colorbar\n",
    "colorbar.ax.tick_params(colors=color)\n",
    "\n",
    "ax.set_xticklabels([int(round(df_features_ml.columns[n*7],0)) for n in np.arange(22)])\n",
    "ax.set_yticklabels([int(round(df_features_ml.columns[n*9],0)) for n in np.arange(17)])\n",
    "\n",
    "ax.tick_params(labelsize=fs*0.8, labelcolor=color)\n",
    "plt.tight_layout(pad=0.5)\n",
    "\n",
    "# ------------------------------------------------------------------------------------------\n",
    "# save plot\n",
    "# fig.savefig('RelativeCovariance-O2_absoutInt_{}.svg'.format(color), transparent=True, dpi=300)"
   ]
  },
  {
   "cell_type": "code",
   "execution_count": null,
   "id": "6584d4d9",
   "metadata": {},
   "outputs": [],
   "source": []
  },
  {
   "cell_type": "markdown",
   "id": "ea93ae16",
   "metadata": {},
   "source": [
    "## Screening of different ML regression algorithms\n",
    "\n",
    "the performance of the models is compared based on the mean absolute error (MAE) and the root-mean-square deviation/error (RMSE)"
   ]
  },
  {
   "cell_type": "code",
   "execution_count": 86,
   "id": "93d6980d",
   "metadata": {},
   "outputs": [],
   "source": [
    "# 1) linear Regression \n",
    "reg_lin = make_pipeline(preprocessing.StandardScaler(), LinearRegression())\n",
    "\n",
    "# 2) lasso Regression\n",
    "reg_lasso = make_pipeline(preprocessing.StandardScaler(), Lasso())\n",
    "\n",
    "# 3) rigide Regression\n",
    "reg_rig = make_pipeline(preprocessing.StandardScaler(), Ridge())\n",
    "\n",
    "# 4) logistic Regression\n",
    "reg_log = make_pipeline(preprocessing.StandardScaler(), LogisticRegression())\n",
    "\n",
    "# -------------------------------------------------------------\n",
    "# 5) RandomForest Regression\n",
    "reg_randF = make_pipeline(preprocessing.StandardScaler(), RandomForestRegressor())\n",
    "\n",
    "# 6) SVM model\n",
    "reg_SVR = make_pipeline( preprocessing.StandardScaler(), SVR())\n",
    "\n",
    "# 7) K Nearest Neighbours\n",
    "reg_kNN = make_pipeline(preprocessing.StandardScaler(), KNeighborsRegressor(n_neighbors=3))\n",
    "\n",
    "# 8) Decision Tree\n",
    "reg_DT = make_pipeline(preprocessing.StandardScaler(), DecisionTreeRegressor())\n",
    "\n",
    "# 9) Xgboost\n",
    "reg_XGB = make_pipeline(preprocessing.StandardScaler(), XGBRegressor())\n",
    "\n",
    "\n",
    "# -------------------------------------------------------------\n",
    "# combine all models\n",
    "models_all = [reg_lin, reg_lasso, reg_rig, reg_log, reg_randF, reg_SVR, reg_kNN, reg_DT, reg_XGB]\n",
    "methods = ['LIN', 'LAS', 'RIG', 'LOG', 'RF', 'SVR', 'kNN', 'DT', 'XGB']"
   ]
  },
  {
   "cell_type": "code",
   "execution_count": 87,
   "id": "df454ee1",
   "metadata": {
    "scrolled": false
   },
   "outputs": [
    {
     "name": "stderr",
     "output_type": "stream",
     "text": [
      "/Users/au652733/Python/Project_pH+O2/MLRegression_dbs.py:254: RuntimeWarning: invalid value encountered in true_divide\n",
      "  z = (y_pred - y_true) / y_true\n"
     ]
    },
    {
     "name": "stdout",
     "output_type": "stream",
     "text": [
      "Model performance without hyperparameter optimization\n",
      "\n"
     ]
    },
    {
     "data": {
      "text/html": [
       "<div>\n",
       "<style scoped>\n",
       "    .dataframe tbody tr th:only-of-type {\n",
       "        vertical-align: middle;\n",
       "    }\n",
       "\n",
       "    .dataframe tbody tr th {\n",
       "        vertical-align: top;\n",
       "    }\n",
       "\n",
       "    .dataframe thead th {\n",
       "        text-align: right;\n",
       "    }\n",
       "</style>\n",
       "<table border=\"1\" class=\"dataframe\">\n",
       "  <thead>\n",
       "    <tr style=\"text-align: right;\">\n",
       "      <th></th>\n",
       "      <th></th>\n",
       "      <th>mae</th>\n",
       "      <th>rmse</th>\n",
       "      <th>sdz</th>\n",
       "    </tr>\n",
       "  </thead>\n",
       "  <tbody>\n",
       "    <tr>\n",
       "      <th rowspan=\"2\" valign=\"top\">LinearRegression</th>\n",
       "      <th>training</th>\n",
       "      <td>2.504445</td>\n",
       "      <td>2.889028</td>\n",
       "      <td>inf</td>\n",
       "    </tr>\n",
       "    <tr>\n",
       "      <th>test</th>\n",
       "      <td>2.477195</td>\n",
       "      <td>2.925690</td>\n",
       "      <td>inf</td>\n",
       "    </tr>\n",
       "    <tr>\n",
       "      <th rowspan=\"2\" valign=\"top\">Lasso</th>\n",
       "      <th>training</th>\n",
       "      <td>2.807404</td>\n",
       "      <td>3.302090</td>\n",
       "      <td>inf</td>\n",
       "    </tr>\n",
       "    <tr>\n",
       "      <th>test</th>\n",
       "      <td>2.788077</td>\n",
       "      <td>3.265688</td>\n",
       "      <td>inf</td>\n",
       "    </tr>\n",
       "    <tr>\n",
       "      <th rowspan=\"2\" valign=\"top\">Ridge</th>\n",
       "      <th>training</th>\n",
       "      <td>2.504918</td>\n",
       "      <td>2.889029</td>\n",
       "      <td>inf</td>\n",
       "    </tr>\n",
       "    <tr>\n",
       "      <th>test</th>\n",
       "      <td>2.477422</td>\n",
       "      <td>2.925454</td>\n",
       "      <td>inf</td>\n",
       "    </tr>\n",
       "    <tr>\n",
       "      <th rowspan=\"2\" valign=\"top\">LogisticRegression</th>\n",
       "      <th>training</th>\n",
       "      <td>39.423503</td>\n",
       "      <td>119.552009</td>\n",
       "      <td>0.089272</td>\n",
       "    </tr>\n",
       "    <tr>\n",
       "      <th>test</th>\n",
       "      <td>43.426295</td>\n",
       "      <td>133.150605</td>\n",
       "      <td>0.098913</td>\n",
       "    </tr>\n",
       "    <tr>\n",
       "      <th rowspan=\"2\" valign=\"top\">RandomForestRegressor</th>\n",
       "      <th>training</th>\n",
       "      <td>0.083419</td>\n",
       "      <td>0.259377</td>\n",
       "      <td>inf</td>\n",
       "    </tr>\n",
       "    <tr>\n",
       "      <th>test</th>\n",
       "      <td>0.282191</td>\n",
       "      <td>0.828022</td>\n",
       "      <td>inf</td>\n",
       "    </tr>\n",
       "    <tr>\n",
       "      <th rowspan=\"2\" valign=\"top\">SVR</th>\n",
       "      <th>training</th>\n",
       "      <td>1.794522</td>\n",
       "      <td>2.583288</td>\n",
       "      <td>inf</td>\n",
       "    </tr>\n",
       "    <tr>\n",
       "      <th>test</th>\n",
       "      <td>2.110134</td>\n",
       "      <td>2.844955</td>\n",
       "      <td>inf</td>\n",
       "    </tr>\n",
       "    <tr>\n",
       "      <th rowspan=\"2\" valign=\"top\">KNeighborsRegressor</th>\n",
       "      <th>training</th>\n",
       "      <td>2.011973</td>\n",
       "      <td>3.037541</td>\n",
       "      <td>inf</td>\n",
       "    </tr>\n",
       "    <tr>\n",
       "      <th>test</th>\n",
       "      <td>2.933599</td>\n",
       "      <td>4.151460</td>\n",
       "      <td>inf</td>\n",
       "    </tr>\n",
       "    <tr>\n",
       "      <th rowspan=\"2\" valign=\"top\">DecisionTreeRegressor</th>\n",
       "      <th>training</th>\n",
       "      <td>0.000000</td>\n",
       "      <td>0.000000</td>\n",
       "      <td>0.000000</td>\n",
       "    </tr>\n",
       "    <tr>\n",
       "      <th>test</th>\n",
       "      <td>0.219124</td>\n",
       "      <td>1.039077</td>\n",
       "      <td>0.135670</td>\n",
       "    </tr>\n",
       "    <tr>\n",
       "      <th rowspan=\"2\" valign=\"top\">XGBRegressor</th>\n",
       "      <th>training</th>\n",
       "      <td>0.019457</td>\n",
       "      <td>0.029454</td>\n",
       "      <td>inf</td>\n",
       "    </tr>\n",
       "    <tr>\n",
       "      <th>test</th>\n",
       "      <td>0.346106</td>\n",
       "      <td>0.917334</td>\n",
       "      <td>inf</td>\n",
       "    </tr>\n",
       "  </tbody>\n",
       "</table>\n",
       "</div>"
      ],
      "text/plain": [
       "                                      mae        rmse       sdz\n",
       "LinearRegression      training   2.504445    2.889028       inf\n",
       "                      test       2.477195    2.925690       inf\n",
       "Lasso                 training   2.807404    3.302090       inf\n",
       "                      test       2.788077    3.265688       inf\n",
       "Ridge                 training   2.504918    2.889029       inf\n",
       "                      test       2.477422    2.925454       inf\n",
       "LogisticRegression    training  39.423503  119.552009  0.089272\n",
       "                      test      43.426295  133.150605  0.098913\n",
       "RandomForestRegressor training   0.083419    0.259377       inf\n",
       "                      test       0.282191    0.828022       inf\n",
       "SVR                   training   1.794522    2.583288       inf\n",
       "                      test       2.110134    2.844955       inf\n",
       "KNeighborsRegressor   training   2.011973    3.037541       inf\n",
       "                      test       2.933599    4.151460       inf\n",
       "DecisionTreeRegressor training   0.000000    0.000000  0.000000\n",
       "                      test       0.219124    1.039077  0.135670\n",
       "XGBRegressor          training   0.019457    0.029454       inf\n",
       "                      test       0.346106    0.917334       inf"
      ]
     },
     "execution_count": 87,
     "metadata": {},
     "output_type": "execute_result"
    }
   ],
   "source": [
    "# predict model performance for traning and validation data\n",
    "derror = _perdict_model_performance(X_train=X_train_dim, X_valid=X_valid_dim, truth_train=truth_train, truth_valid=truth_valid, \n",
    "                                    methods=methods, models_all=models_all)\n",
    "df_error = pd.concat(derror)\n",
    "\n",
    "# -------------------------------------------------------------\n",
    "print('Model performance without hyperparameter optimization\\n')\n",
    "pd.concat(derror)"
   ]
  },
  {
   "cell_type": "code",
   "execution_count": 117,
   "id": "2f1ea18f",
   "metadata": {},
   "outputs": [
    {
     "name": "stdout",
     "output_type": "stream",
     "text": [
      "Best performing ML algorithm(s)\n",
      ">> for training data: \t ['DecisionTreeRegressor', 'RandomForestRegressor', 'XGBRegressor']\n",
      ">> for test data: \t ['DecisionTreeRegressor', 'RandomForestRegressor', 'XGBRegressor']\n"
     ]
    }
   ],
   "source": [
    "print('Best performing ML algorithm(s)')\n",
    "\n",
    "dT1 = pd.concat(derror).T.filter(like='training').T.sort_values('mae')['mae'][:3].index\n",
    "dT2 = pd.concat(derror).T.filter(like='training').T.sort_values('rmse')['rmse'][:3].index\n",
    "dv1 = pd.concat(derror).T.filter(like='test').T.sort_values('mae')['mae'][:3].index\n",
    "dv2 = pd.concat(derror).T.filter(like='test').T.sort_values('rmse')['rmse'][:3].index\n",
    "\n",
    "print('>> for training data: \\t', sorted(list(dict.fromkeys([v[0] for v in dT1] + [v[0] for v in dT2]))))\n",
    "print('>> for test data: \\t', sorted(list(dict.fromkeys([v[0] for v in dv1] + [v[0] for v in dv2]))))"
   ]
  },
  {
   "cell_type": "code",
   "execution_count": null,
   "id": "e854d920",
   "metadata": {},
   "outputs": [],
   "source": []
  }
 ],
 "metadata": {
  "kernelspec": {
   "display_name": "Python 3",
   "language": "python",
   "name": "python3"
  },
  "language_info": {
   "codemirror_mode": {
    "name": "ipython",
    "version": 3
   },
   "file_extension": ".py",
   "mimetype": "text/x-python",
   "name": "python",
   "nbconvert_exporter": "python",
   "pygments_lexer": "ipython3",
   "version": "3.8.8"
  }
 },
 "nbformat": 4,
 "nbformat_minor": 5
}
