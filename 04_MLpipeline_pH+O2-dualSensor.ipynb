{
 "cells": [
  {
   "cell_type": "code",
   "execution_count": 25,
   "id": "60f238a1",
   "metadata": {},
   "outputs": [],
   "source": [
    "%run function_dbs.py\n",
    "%run MLRegression_dbs.py\n",
    "\n",
    "fs = 12\n",
    "color1, color2 = '#264653', '#f4a261'\n",
    "pd.set_option(\"display.precision\", 3)"
   ]
  },
  {
   "cell_type": "markdown",
   "id": "ddde871f",
   "metadata": {},
   "source": [
    "## Load data and split into training and validation data for pH and O2"
   ]
  },
  {
   "cell_type": "code",
   "execution_count": 26,
   "id": "9d0a428d",
   "metadata": {},
   "outputs": [],
   "source": [
    "# load data set for pH and O2\n",
    "ddata_ph = pd.read_csv('460nm/20221010_TrainingData-pH_balanced_absoluteInt_hPa.csv', sep='\\t', index_col=0).astype(float)\n",
    "ddata_ph.columns = [float(i) for i in ddata_ph.columns[:-1]] + ['O2 (hPa)']\n",
    "\n",
    "ddata_ox = pd.read_csv('460nm/20221010_TrainingData-O2_balanced_absoluteInt_hPa.csv', sep='\\t', index_col=0).astype(float)\n",
    "ddata_ox.columns = [float(i) for i in ddata_ox.columns[:-1]] + ['pH']\n",
    "\n",
    "# -----------------------------------------------------------------------------------------\n",
    "# split into training (80%) and validation (20%) data set\n",
    "\n",
    "# pH data\n",
    "X_train_ph, X_valid_ph, truth_train_ph, truth_valid_ph = train_test_split(ddata_ph, ddata_ph.index, test_size=0.2, random_state=42)\n",
    "# O2 data\n",
    "X_train_ox, X_valid_ox, truth_train_ox, truth_valid_ox = train_test_split(ddata_ox, ddata_ox.index, test_size=0.2, random_state=42)\n",
    "X_train_ox = pd.concat([X_train_ox, ddata_ox])\n",
    "\n",
    "X_valid = pd.concat([pd.DataFrame(X_valid_ox.index, columns=['O2 (hPa)'], index=X_valid_ox.index),\n",
    "                     pd.DataFrame(X_valid_ox['pH'], columns=['pH'], index=X_valid_ox.index), X_valid_ox.loc[:, 470:900]], axis=1)\n",
    "y_valid_ox, y_valid_ph = X_valid['O2 (hPa)'].to_numpy(), X_valid['pH'].to_numpy()\n",
    "\n",
    "# -----------------------------------------------------------------------------------------\n",
    "# determined optimized hyperparameter for XGBoost \n",
    "dpara = dict({'pH': dict({'n_estimators': 250, 'min_child_weight': 3, 'max_depth': 9, 'learning_rate': 0.05}),\n",
    "              'O2': dict({'n_estimators': 250, 'min_child_weight': 5, 'max_depth': 7, 'learning_rate': 0.05})})"
   ]
  },
  {
   "cell_type": "code",
   "execution_count": null,
   "id": "039a5076",
   "metadata": {},
   "outputs": [],
   "source": []
  },
  {
   "cell_type": "markdown",
   "id": "fe1218b6",
   "metadata": {},
   "source": [
    "## Preparation of training data set for multilayered ML model\n",
    "\n",
    "##### 1st Layer: pH prediction"
   ]
  },
  {
   "cell_type": "code",
   "execution_count": 27,
   "id": "c9b2cf52",
   "metadata": {},
   "outputs": [
    {
     "name": "stdout",
     "output_type": "stream",
     "text": [
      "training pH - 1st layer: (2976, 150) sample (783, 150)\n"
     ]
    }
   ],
   "source": [
    "# define training and validation set\n",
    "X_train_l1 = X_train_ph.loc[:, 470:900]\n",
    "X_train_l1 = X_train_l1.astype(float)\n",
    "y_target_l1 = X_train_l1.index           # known pH\n",
    "\n",
    "X_sample_l1 = X_valid.loc[:, 470:900] \n",
    "y_valid_l1 = y_valid_ph                  # known pH\n",
    "\n",
    "print('training pH - 1st layer:', X_train_l1.shape, 'sample', X_sample_l1.shape)\n",
    "\n",
    "# --------------------------------------------------------------------------------\n",
    "# create the ML pipeline\n",
    "reg_xgb_l1 = make_pipeline(preprocessing.StandardScaler(), \n",
    "                           xgb.XGBRegressor(n_estimators=dpara['pH']['n_estimators'], max_depth=dpara['pH']['max_depth'],\n",
    "                                            min_child_weight=dpara['pH']['min_child_weight'], n_jobs=-1, random_state=42, \n",
    "                                            learning_rate=dpara['pH']['learning_rate']))\n",
    "\n",
    "# execute the ML algorithm\n",
    "[model_l1, y_predT_l1, y_pred_l1, paraT_l1,\n",
    " para_l1] = _fitPredict_experiement(model=reg_xgb_l1, X_train=np.array(X_train_l1), truth_train=y_target_l1, X_valid=X_sample_l1, \n",
    "                                    truth_sample=y_valid_l1)\n",
    "\n",
    "# adjust precision of pH\n",
    "y_predT_l1, y_pred_l1 = [round(i, 1) for i in y_predT_l1], [round(i, 1) for i in y_pred_l1]"
   ]
  },
  {
   "cell_type": "markdown",
   "id": "096f8dea",
   "metadata": {},
   "source": [
    "##### 2nd Layer: O2 prediction with known pH"
   ]
  },
  {
   "cell_type": "code",
   "execution_count": 28,
   "id": "f1030edf",
   "metadata": {},
   "outputs": [
    {
     "name": "stdout",
     "output_type": "stream",
     "text": [
      "training pH - 2nd layer: (7043, 151) sample (783, 151)\n"
     ]
    }
   ],
   "source": [
    "# define training and validation set\n",
    "X_train_l2 = X_train_ox.astype(float)\n",
    "y_target_l2 = X_train_l2.index        # known O2\n",
    "\n",
    "X_sample_l2 = pd.concat([pd.DataFrame(y_pred_l1, index=X_sample_l1.index, columns=['pH']), X_valid.loc[:, 470:900]], axis=1)\n",
    "y_valid_l2 = X_sample_l2.index       # known O2\n",
    "\n",
    "print('training pH - 2nd layer:', X_train_l2.shape, 'sample', X_sample_l2.shape)\n",
    "\n",
    "# convert columns to not raise any warnings - label pH as 1\n",
    "X_sample_l2.columns = [1] + list(X_sample_l2.columns[1:])\n",
    "X_train_l2.columns = list(X_train_l2.columns[:-1]) + [1] \n",
    "\n",
    "# --------------------------------------------------------------------------------\n",
    "# create the ML pipeline\n",
    "reg_xgb_l2 = make_pipeline(preprocessing.StandardScaler(), \n",
    "                           xgb.XGBRegressor(n_estimators=dpara['O2']['n_estimators'], max_depth=dpara['O2']['max_depth'], \n",
    "                                            learning_rate=dpara['O2']['learning_rate'], random_state=42, n_jobs=-1, \n",
    "                                            min_child_weight=dpara['O2']['min_child_weight']))\n",
    "\n",
    "# execute ML algorithm\n",
    "[model_l2, y_predT_l2, y_pred_l2, paraT_l2,\n",
    " para_l2] = _fitPredict_experiement(model=reg_xgb_l2, X_train=X_train_l2, truth_train=y_target_l2, X_valid=X_sample_l2, \n",
    "                                      truth_sample=y_valid_l2)\n",
    "\n",
    "# reconvert the columns to the original parameter\n",
    "X_train_l2.columns = list(X_train_l2.columns[:-1]) + ['pH']\n",
    "X_sample_l2.columns = ['pH'] + list(X_sample_l2.columns[1:])"
   ]
  },
  {
   "cell_type": "markdown",
   "id": "52bb4e58",
   "metadata": {},
   "source": [
    "##### 3rd Layer: O2 prediction iteration  with known pH and O2"
   ]
  },
  {
   "cell_type": "code",
   "execution_count": 5,
   "id": "229b7472",
   "metadata": {},
   "outputs": [
    {
     "name": "stdout",
     "output_type": "stream",
     "text": [
      "training pH - 3rd layer: (2976, 152) sample (783, 152)\n"
     ]
    },
    {
     "name": "stderr",
     "output_type": "stream",
     "text": [
      "/Users/au652733/Python/2019-2022/Project_pH+O2/MLRegression_dbs.py:255: RuntimeWarning: divide by zero encountered in true_divide\n",
      "  z = (y_pred - y_true) / y_true\n"
     ]
    }
   ],
   "source": [
    "X_train_l3 = pd.concat([pd.DataFrame(X_train_ph['O2 (hPa)'], index=X_train_ph.index, columns=['O2 (hPa)']),\n",
    "                        pd.DataFrame(X_train_ph.index, index=X_train_ph.index, columns=['pH']),  \n",
    "                        X_train_ph.loc[:, 470:900]], axis=1)\n",
    "y_target_l3 = X_train_l3['O2 (hPa)'].to_numpy()\n",
    "\n",
    "# built up your third layer with additional information about O2 (from first step regression) \n",
    "X_sample_l3 = pd.concat([pd.DataFrame(X_sample_l2.index, index=X_sample_l2.index, columns=['O2 (hPa)']), X_sample_l2], axis=1)\n",
    "y_valid_l3 = X_sample_l3.index\n",
    "\n",
    "print('training pH - 3rd layer:', X_train_l3.shape, 'sample', X_sample_l3.shape)\n",
    "\n",
    "# convert columns to not raise any warnings\n",
    "X_sample_l3.columns = [1, 2] + list(X_sample_l3.columns[2:])\n",
    "X_train_l3.columns = [1, 2] + list(X_train_l3.columns[2:])\n",
    "\n",
    "# --------------------------------------------------------------------------------\n",
    "# execute ML algorithm\n",
    "[model_l3, y_predT_l3, y_pred_l3, paraT_l3,\n",
    " para_l3] = _fitPredict_experiement(model=reg_xgb_l2, X_train=X_train_l3, truth_train=y_target_l3, X_valid=X_sample_l3, \n",
    "                                    truth_sample=y_valid_l3)\n",
    "\n",
    "# reconvert the columns to the original parameter\n",
    "X_train_l3.columns = ['O2 (hPa)', 'pH'] + list(X_train_l3.columns[2:])\n",
    "X_sample_l3.columns = ['O2 (hPa)', 'pH'] + list(X_sample_l3.columns[2:])\n",
    "\n",
    "# adjust precision of O2 \n",
    "y_predT_l3, y_pred_l3 = [round(i, 2) for i in y_predT_l3], [round(i, 2) for i in y_pred_l3]"
   ]
  },
  {
   "cell_type": "markdown",
   "id": "6f05c7c6",
   "metadata": {},
   "source": [
    "### Model visualization"
   ]
  },
  {
   "cell_type": "code",
   "execution_count": null,
   "id": "5320424a",
   "metadata": {},
   "outputs": [],
   "source": [
    "from xgboost import plot_tree\n",
    "%matplotlib inline"
   ]
  },
  {
   "cell_type": "code",
   "execution_count": null,
   "id": "805ba1af",
   "metadata": {},
   "outputs": [],
   "source": [
    "fig, ax = plt.subplots(figsize=(10, 6))\n",
    "plot_tree(model_l1.named_steps[\"xgbregressor\"], ax=ax,)#num_trees=4,rankdir='LR')\n",
    "plt.tight_layout()\n",
    "\n",
    "# fig.savefig('Modelvisualization_pH-layer.svg', transparent=True, dpi=500)"
   ]
  },
  {
   "cell_type": "code",
   "execution_count": null,
   "id": "79e62da4",
   "metadata": {},
   "outputs": [],
   "source": [
    "fig, ax = plt.subplots(figsize=(10, 6))\n",
    "plot_tree(model_l2.named_steps[\"xgbregressor\"], ax=ax,)#num_trees=4,rankdir='LR')\n",
    "plt.tight_layout()\n",
    "\n",
    "# fig.savefig('Modelvisualization_O2-layer.png', transparent=True, dpi=500)"
   ]
  },
  {
   "cell_type": "code",
   "execution_count": null,
   "id": "77fbfce7",
   "metadata": {},
   "outputs": [],
   "source": [
    "fig, ax = plt.subplots(figsize=(10, 6))\n",
    "plot_tree(model_l3.named_steps[\"xgbregressor\"], ax=ax)\n",
    "plt.tight_layout()\n",
    "\n",
    "# fig.savefig('Modelvisualization_O2-layer_step2.svg', transparent=True, dpi=500)"
   ]
  },
  {
   "cell_type": "code",
   "execution_count": null,
   "id": "2a6079ac",
   "metadata": {},
   "outputs": [],
   "source": []
  },
  {
   "cell_type": "markdown",
   "id": "363f71d4",
   "metadata": {},
   "source": [
    "### Combine results for validation"
   ]
  },
  {
   "cell_type": "code",
   "execution_count": 6,
   "id": "63fe20a6",
   "metadata": {},
   "outputs": [],
   "source": [
    "# pH prediction\n",
    "df_pred_Tph = pd.DataFrame(y_predT_l1, columns=['training pH - predict'])\n",
    "df_pred_ph = pd.DataFrame(y_pred_l1, columns=['validation pH - predict'])\n",
    "df_truth_Tph = pd.DataFrame(y_target_l1, columns=['validation pH - truth'])\n",
    "df_truth_ph = pd.DataFrame(y_valid_l1, columns=['validation pH - truth'])\n",
    "\n",
    "# O2 prediction\n",
    "df_pred_Tox = pd.DataFrame(y_predT_l3, columns=['training O2 - predict'])\n",
    "df_pred_ox = pd.DataFrame(y_pred_l3, columns=['validation O2 - predict'])\n",
    "df_truth_Tox = pd.DataFrame(y_target_l3, columns=['validation O2 - truth'])\n",
    "df_truth_ox = pd.DataFrame(y_valid_l3, columns=['validation O2 - truth'])\n",
    "\n",
    "df_ph_train, df_ph_valid = pd.concat([df_pred_Tph, df_truth_Tph], axis=1), pd.concat([df_pred_ph, df_truth_ph], axis=1)\n",
    "df_ox_train, df_ox_valid = pd.concat([df_pred_Tox, df_truth_Tox], axis=1), pd.concat([df_pred_ox, df_truth_ox], axis=1)"
   ]
  },
  {
   "cell_type": "code",
   "execution_count": 7,
   "id": "159b1492",
   "metadata": {},
   "outputs": [
    {
     "name": "stdout",
     "output_type": "stream",
     "text": [
      "Results for the sample data \n",
      "\n",
      "overall accuracy of pH value:\n",
      "\t training: \t -3.02e-04 +/- 8.39e-03\n",
      "\t validation: \t 0.00e+00 +/- 9.71e-01\n",
      "overall accuracy of O2 concentration:\n",
      "\t training: \t 5.39e-07 +/- 3.17e-06\n",
      "\t validation: \t 0.00e+00 +/- 4.58e-02\n"
     ]
    }
   ],
   "source": [
    "# mean and std for pH and O2 prediction of training and validation data\n",
    "mean_Tph = np.nanmean(df_ph_train[\"training pH - predict\"].subtract(df_ph_train[\"validation pH - truth\"]))\n",
    "std_Tph = np.nanstd(df_ph_train[\"training pH - predict\"].subtract(df_ph_train[\"validation pH - truth\"]))\n",
    "\n",
    "mean_ph = np.nanmedian(df_ph_valid[\"validation pH - predict\"].subtract(df_ph_valid[\"validation pH - truth\"]))\n",
    "std_ph = np.nanstd(df_ph_valid[\"validation pH - predict\"].subtract(df_ph_valid[\"validation pH - truth\"]))\n",
    "\n",
    "mean_Tox = np.nanmean(df_ox_train[\"training O2 - predict\"].subtract(df_ox_train[\"validation O2 - truth\"]))\n",
    "std_Tox = np.nanstd(df_ox_train[\"training O2 - predict\"].subtract(df_ox_train[\"validation O2 - truth\"]))\n",
    "\n",
    "mean_ox = np.nanmedian(df_ox_valid[\"validation O2 - predict\"].subtract(df_ox_valid[\"validation O2 - truth\"]))\n",
    "std_ox = np.nanstd(df_ox_valid[\"validation O2 - predict\"].subtract(df_ox_valid[\"validation O2 - truth\"]))\n",
    "\n",
    "df_ph_train = df_ph_train.set_index('validation pH - truth')\n",
    "df_ph_valid = df_ph_valid.set_index('validation pH - truth')\n",
    "df_ox_train = df_ox_train.set_index('validation O2 - truth')\n",
    "df_ox_valid = df_ox_valid.set_index('validation O2 - truth')\n",
    "# ---------------------------------------------------------------------------------------------\n",
    "print('Results for the sample data \\n')\n",
    "print('overall accuracy of pH value:')\n",
    "print('\\t training: \\t {:.2e} +/- {:.2e}'.format(mean_Tph, std_Tph))\n",
    "print('\\t validation: \\t {:.2e} +/- {:.2e}'.format(mean_ph, std_ph))\n",
    "\n",
    "print('overall accuracy of O2 concentration:')\n",
    "print('\\t training: \\t {:.2e} +/- {:.2e}'.format(mean_Tox, std_Tox))\n",
    "print('\\t validation: \\t {:.2e} +/- {:.2e}'.format(mean_ox, std_ox))"
   ]
  },
  {
   "cell_type": "markdown",
   "id": "f3b5dbc8",
   "metadata": {},
   "source": [
    "cross-check of pH"
   ]
  },
  {
   "cell_type": "code",
   "execution_count": 8,
   "id": "55adc2ca",
   "metadata": {},
   "outputs": [
    {
     "name": "stdout",
     "output_type": "stream",
     "text": [
      "Using matplotlib backend: MacOSX\n"
     ]
    },
    {
     "data": {
      "text/plain": [
       "(None, None)"
      ]
     },
     "execution_count": 8,
     "metadata": {},
     "output_type": "execute_result"
    }
   ],
   "source": [
    "%matplotlib\n",
    "\n",
    "\n",
    "pH_insert = 6\n",
    "fig, ax = plt.subplots(figsize=(7,4))\n",
    "ax2 = plt.axes([0, 0, 1, 1])\n",
    "\n",
    "ax.set_xlabel('true pH value', fontsize=fs*0.9), ax.set_ylabel('predicted pH value', fontsize=fs*0.9)\n",
    "ax2.set_xlabel('data points', fontsize=fs*0.7), ax2.set_ylabel('predicted pH value', fontsize=fs*0.7)\n",
    "ax2.tick_params(labelsize=fs*0.6)\n",
    "\n",
    "ax.plot(df_ph_train, lw=0, marker='.', ms=10, color=color1)\n",
    "ax.set_xlim(0, 14), ax.set_ylim(0, 14)\n",
    "\n",
    "# Manually set the position and relative size of the inset axes within ax1\n",
    "ip = InsetPosition(ax, [0.7,0.15,0.4,0.45])\n",
    "ax2.set_axes_locator(ip)\n",
    "ax2.plot(df_ph_train.loc[pH_insert, 'training pH - predict'].to_numpy(), lw=0, marker='.', ms=4, color='k')\n",
    "ax2.plot(df_ph_train.loc[pH_insert].index, lw=1, color=color2)\n",
    "\n",
    "sns.despine(), plt.subplots_adjust(right=0.9)\n",
    "\n",
    "# ---------------------------------------------------------------------\n",
    "# save figure\n",
    "# fig.savefig('20230109_crossCheck_pH_training-hPa_pH6.svg', dpi=300, transparent=True)"
   ]
  },
  {
   "cell_type": "code",
   "execution_count": 9,
   "id": "ed759687",
   "metadata": {},
   "outputs": [
    {
     "data": {
      "text/plain": [
       "(None, None)"
      ]
     },
     "execution_count": 9,
     "metadata": {},
     "output_type": "execute_result"
    }
   ],
   "source": [
    "#pH_insert = 4\n",
    "fig, ax = plt.subplots(figsize=(7,4))\n",
    "ax2 = plt.axes([0, 0, 1, 1])\n",
    "\n",
    "ax.set_xlabel('true pH value', fontsize=fs*0.9), ax.set_ylabel('predicted pH value', fontsize=fs*0.9)\n",
    "ax2.set_xlabel('data points', fontsize=fs*0.7), ax2.set_ylabel('predicted pH value', fontsize=fs*0.7)\n",
    "ax2.tick_params(labelsize=fs*0.6)\n",
    "\n",
    "ax.plot(df_ph_valid, lw=0, marker='.', color=color1)\n",
    "ax.set_xlim(0, 14), ax.set_ylim(0, 14)\n",
    "\n",
    "# Manually set the position and relative size of the inset axes within ax1\n",
    "ip = InsetPosition(ax, [0.7,0.15,0.4,0.45])\n",
    "ax2.set_axes_locator(ip)\n",
    "ax2.plot(df_ph_valid.loc[pH_insert, 'validation pH - predict'].to_numpy(), lw=0, marker='.', color='k')\n",
    "ax2.plot(df_ph_valid.loc[pH_insert].index, lw=1, color=color2)\n",
    "\n",
    "sns.despine(), plt.subplots_adjust(right=0.9)\n",
    "\n",
    "# ---------------------------------------------------------------------\n",
    "# save figure\n",
    "# fig.savefig('20230109_crossCheck_pH_validation-hPa_pH6.svg', dpi=300, transparent=True)"
   ]
  },
  {
   "cell_type": "markdown",
   "id": "59c5f703",
   "metadata": {},
   "source": [
    "cross-check of O2"
   ]
  },
  {
   "cell_type": "code",
   "execution_count": 12,
   "id": "23f9de02",
   "metadata": {},
   "outputs": [
    {
     "data": {
      "text/plain": [
       "(None, None)"
      ]
     },
     "execution_count": 12,
     "metadata": {},
     "output_type": "execute_result"
    }
   ],
   "source": [
    "ox_insert = 56.\n",
    "fig, ax = plt.subplots(figsize=(7,4))\n",
    "ax2 = plt.axes([0, 0, 1, 1])\n",
    "\n",
    "ax.set_xlabel('true O2 concentration (hPa)', fontsize=fs*0.9), ax.set_ylabel('predicted O2 concentration (hPa)', fontsize=fs*0.9)\n",
    "\n",
    "ax2.set_xlabel('data points', fontsize=fs*0.7), ax2.set_ylabel('predicted O2 concentration (hPa)', fontsize=fs*0.7)\n",
    "ax2.tick_params(labelsize=fs*0.6)\n",
    "\n",
    "ax.plot(df_ox_train, lw=0, marker='.', color=color1)\n",
    "# ax.set_xlim(0, 14), ax.set_ylim(0, 14)\n",
    "\n",
    "# Manually set the position and relative size of the inset axes within ax1\n",
    "ip = InsetPosition(ax, [0.7,0.15,0.4,0.45])\n",
    "ax2.set_axes_locator(ip)\n",
    "ax2.plot([round(o, 1) for o in df_ox_train.loc[ox_insert, 'training O2 - predict'].to_numpy()], lw=0, marker='.', color='k')\n",
    "ax2.plot([round(o, 1) for o in df_ox_train.loc[ox_insert,].index], lw=1, color=color2)\n",
    "\n",
    "sns.despine(), plt.subplots_adjust(right=0.9)\n",
    "\n",
    "# ---------------------------------------------------------------------\n",
    "# save figure\n",
    "# fig.savefig('20230109_crossCheck_O2_training-hPa_2.svg', dpi=300, transparent=True)"
   ]
  },
  {
   "cell_type": "code",
   "execution_count": 13,
   "id": "fd605786",
   "metadata": {},
   "outputs": [
    {
     "name": "stderr",
     "output_type": "stream",
     "text": [
      "<ipython-input-13-29065275ed4a>:18: UserWarning: This figure includes Axes that are not compatible with tight_layout, so results might be incorrect.\n",
      "  sns.despine(), plt.tight_layout()\n"
     ]
    },
    {
     "data": {
      "text/plain": [
       "(None, None)"
      ]
     },
     "execution_count": 13,
     "metadata": {},
     "output_type": "execute_result"
    }
   ],
   "source": [
    "fig, ax = plt.subplots(figsize=(7,4))\n",
    "ax2 = plt.axes([0, 0, 1, 1])\n",
    "\n",
    "ax.set_xlabel('true O2 concentration (hPa)', fontsize=fs*0.9), ax.set_ylabel('predicted O2 concentration (hPa)', fontsize=fs*0.9)\n",
    "\n",
    "ax2.set_xlabel('data points', fontsize=fs*0.7), ax2.set_ylabel('predicted O2 concentration (hPa)', fontsize=fs*0.7)\n",
    "ax2.tick_params(labelsize=fs*0.6)\n",
    "\n",
    "ax.plot(df_ox_valid, lw=0, marker='.', color=color1)\n",
    "# ax.set_xlim(0, 14), ax.set_ylim(0, 14)\n",
    "\n",
    "# Manually set the position and relative size of the inset axes within ax1\n",
    "ip = InsetPosition(ax, [0.7,0.15,0.4,0.45])\n",
    "ax2.set_axes_locator(ip)\n",
    "ax2.plot([round(o, 1) for o in df_ox_valid.loc[ox_insert, 'validation O2 - predict'].to_numpy()], lw=0, marker='.', color='k')\n",
    "ax2.plot([round(o, 1) for o in df_ox_valid.loc[ox_insert,].index], lw=1, color=color2)\n",
    "\n",
    "sns.despine(), plt.tight_layout()\n",
    "\n",
    "# ---------------------------------------------------------------------\n",
    "# save figure\n",
    "# fig.savefig('20230109_crossCheck_O2_validation_hPa.svg', dpi=300, transparent=True)"
   ]
  },
  {
   "cell_type": "code",
   "execution_count": null,
   "id": "34e135b8",
   "metadata": {},
   "outputs": [],
   "source": []
  },
  {
   "cell_type": "code",
   "execution_count": null,
   "id": "6cce6a19",
   "metadata": {},
   "outputs": [],
   "source": []
  },
  {
   "cell_type": "markdown",
   "id": "5b7a6aa6",
   "metadata": {},
   "source": [
    "# Cross-validation\n",
    "\n",
    "When the cv argument is an integer, cross_val_score uses the KFold or StratifiedKFold strategies by default, the latter being used if the estimator derives from ClassifierMixin."
   ]
  },
  {
   "cell_type": "code",
   "execution_count": 82,
   "id": "ed7f51fb",
   "metadata": {},
   "outputs": [],
   "source": [
    "from sklearn.model_selection import KFold, StratifiedKFold\n",
    "from sklearn.model_selection import cross_val_score\n",
    "\n",
    "n_splits = 10"
   ]
  },
  {
   "cell_type": "code",
   "execution_count": 48,
   "id": "96b527a6",
   "metadata": {
    "scrolled": true
   },
   "outputs": [
    {
     "name": "stdout",
     "output_type": "stream",
     "text": [
      "scores for pH: \n",
      "mae: 1.96e-01 \t rmse: 4.42e-01\n"
     ]
    }
   ],
   "source": [
    "# k-fold cross-validation of the pH prediction using all data\n",
    "# 1st layer - pH prediction\n",
    "X_cv_pH_l1 = ddata_ph.loc[:, 470:900]                         # spectral data without O2 information\n",
    "X_cv_pH_l1 = X_cv_pH_l1.astype(float)\n",
    "y_cv_pH_l1 = X_cv_pH_l1.index                                 # known pH\n",
    "cv = KFold(n_splits=n_splits, random_state=42, shuffle=True)\n",
    "\n",
    "scores_ph = cross_val_score(reg_xgb_l1, X_cv_pH_l1, y_cv_pH_l1, scoring='neg_mean_absolute_error', cv=cv, n_jobs=-1)\n",
    "mae_ph, rmse_ph = np.mean(np.absolute(scores_ph)), np.sqrt(np.mean(np.absolute(scores_ph)))\n",
    "print('scores for pH: \\nmae: {:.2e} \\t rmse: {:.2e}'.format(mae_ph, rmse_ph))"
   ]
  },
  {
   "cell_type": "code",
   "execution_count": 83,
   "id": "82e41667",
   "metadata": {},
   "outputs": [
    {
     "name": "stderr",
     "output_type": "stream",
     "text": [
      "/Applications/anaconda3/lib/python3.8/site-packages/sklearn/utils/validation.py:1858: FutureWarning: Feature names only support names that are all strings. Got feature names with dtypes: ['float', 'str']. An error will be raised in 1.2.\n",
      "  warnings.warn(\n"
     ]
    },
    {
     "name": "stdout",
     "output_type": "stream",
     "text": [
      "scores for pH: \n",
      "mae: 4.50e-02 \t rmse: 2.12e-01\n"
     ]
    }
   ],
   "source": [
    "# k-fold cross-validation of the O2 prediction using all data\n",
    "# 2nd layer - O2 prediction with pre-knowledge on pH\n",
    "#X_cv_ox_l2 = ddata_ox                                         # spectral data including pH information\n",
    "#y_cv_ox_l2 = X_cv_ox_l2.index                                 # known O2 concentration\n",
    "\n",
    "# 3rd layer - O2 prediction with pre-knowledge on pH and O2 (iterative layer)\n",
    "X_cv_ox_l2 = pd.concat([pd.DataFrame(reg_xgb_l2.predict(ddata_ox), index=ddata_ox.index, columns=['O2 (hPa)']),\n",
    "                        pd.DataFrame(ddata_ox['pH'], index=ddata_ox.index, columns=['pH']), ddata_ox.loc[:, 470:900]], axis=1)\n",
    "y_cv_ox_l2 = X_cv_ox_l2.index                                 # known O2 concentration\n",
    "\n",
    "# -------------------\n",
    "cv = KFold(n_splits=n_splits, random_state=42, shuffle=True)\n",
    "\n",
    "scores_ph = cross_val_score(reg_xgb_l2, X_cv_ox_l2, y_cv_ox_l2, scoring='neg_mean_absolute_error', cv=cv, n_jobs=-1)\n",
    "mae_ph, rmse_ph = np.mean(np.absolute(scores_ph)), np.sqrt(np.mean(np.absolute(scores_ph)))\n",
    "print('scores for pH: \\nmae: {:.2e} \\t rmse: {:.2e}'.format(mae_ph, rmse_ph))"
   ]
  },
  {
   "cell_type": "code",
   "execution_count": null,
   "id": "c519cfe0",
   "metadata": {},
   "outputs": [],
   "source": []
  },
  {
   "cell_type": "code",
   "execution_count": null,
   "id": "76f9cbbc",
   "metadata": {},
   "outputs": [],
   "source": []
  },
  {
   "cell_type": "code",
   "execution_count": 38,
   "id": "fb4dc27c",
   "metadata": {},
   "outputs": [
    {
     "name": "stdout",
     "output_type": "stream",
     "text": [
      "scores for pH: \n",
      "mae: 3.71e-01 \t rmse: 6.09e-01\n"
     ]
    }
   ],
   "source": [
    "# k-fold cross-validation of the pH prediction\n",
    "X_train_ph = X_sample_l1.copy() # X_train_l1.copy()\n",
    "X_train_ph.columns = np.arange(X_train_ph.shape[1])\n",
    "y_target = y_valid_l1 # y_target_l1\n",
    "cv = KFold(n_splits=n_splits, random_state=42, shuffle=True)\n",
    "\n",
    "scores_ph = cross_val_score(reg_xgb_l1, X_train_ph, y_target, scoring='neg_mean_absolute_error', cv=cv, n_jobs=-1)\n",
    "mae_ph, rmse_ph = np.mean(np.absolute(scores_ph)), np.sqrt(np.mean(np.absolute(scores_ph)))\n",
    "print('scores for pH: \\nmae: {:.2e} \\t rmse: {:.2e}'.format(mae_ph, rmse_ph))"
   ]
  },
  {
   "cell_type": "code",
   "execution_count": 39,
   "id": "e66c4206",
   "metadata": {},
   "outputs": [
    {
     "name": "stdout",
     "output_type": "stream",
     "text": [
      "scores for O2: \n",
      "mae: 3.14e+00 \t rmse: 1.77e+00\n"
     ]
    }
   ],
   "source": [
    "# k-fold cross-validation of the O2 prediction\n",
    "X_train_ox = X_sample_l2.copy() # X_train_l2.copy()\n",
    "X_train_ox.columns = np.arange(X_train_ox.shape[1])\n",
    "y_target = y_valid_l2 #y_target_l2\n",
    "cv = KFold(n_splits=n_splits, random_state=42, shuffle=True)\n",
    "\n",
    "scores = cross_val_score(reg_xgb_l2, X_train_ox, y_target, scoring='neg_mean_absolute_error', cv=cv, n_jobs=-1)\n",
    "mae, rmse = np.mean(np.absolute(scores)), np.sqrt(np.mean(np.absolute(scores)))\n",
    "\n",
    "print('scores for O2: \\nmae: {:.2e} \\t rmse: {:.2e}'.format(mae, rmse))"
   ]
  },
  {
   "cell_type": "code",
   "execution_count": null,
   "id": "0da2e370",
   "metadata": {},
   "outputs": [],
   "source": []
  }
 ],
 "metadata": {
  "kernelspec": {
   "display_name": "Python 3",
   "language": "python",
   "name": "python3"
  },
  "language_info": {
   "codemirror_mode": {
    "name": "ipython",
    "version": 3
   },
   "file_extension": ".py",
   "mimetype": "text/x-python",
   "name": "python",
   "nbconvert_exporter": "python",
   "pygments_lexer": "ipython3",
   "version": "3.8.8"
  }
 },
 "nbformat": 4,
 "nbformat_minor": 5
}
