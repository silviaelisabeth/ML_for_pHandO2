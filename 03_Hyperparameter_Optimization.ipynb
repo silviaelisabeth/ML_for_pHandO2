{
 "cells": [
  {
   "cell_type": "code",
   "execution_count": 40,
   "id": "5488a779",
   "metadata": {},
   "outputs": [],
   "source": [
    "%run function_dbs.py\n",
    "%run MLRegression_dbs.py\n",
    "%matplotlib inline\n",
    "\n",
    "fs, color = 10, 'k'\n",
    "today = ''.join(str(datetime.today()).split(' ')[0].split('-'))"
   ]
  },
  {
   "cell_type": "markdown",
   "id": "ca3091cb",
   "metadata": {},
   "source": [
    "## load data set and split into training and validation data"
   ]
  },
  {
   "cell_type": "code",
   "execution_count": 49,
   "id": "aa39b4c8",
   "metadata": {},
   "outputs": [
    {
     "name": "stdout",
     "output_type": "stream",
     "text": [
      "in ML a rule of thumbs says that a suitable size for a data set is >1,000 samples\n",
      "size of data sets:\n",
      "> training data   (3130, 151) \n",
      "> validation data (783, 151)\n"
     ]
    }
   ],
   "source": [
    "# select which ML algorithm for which analyte shall be analysed \n",
    "file_ox = '460nm/20221010_TrainingData-O2_balanced_absoluteInt_hPa.csv'\n",
    "file_ph = '460nm/20221010_TrainingData-pH_balanced_absoluteInt_hPa.csv'\n",
    "\n",
    "df_features = pd.read_csv(file_ox, sep='\\t', index_col=0)\n",
    "\n",
    "# ----------------------------------------------------------------------------------------\n",
    "# split the data into training and validation data\n",
    "y_truth = df_features.index              # n_samples (3720,) chosen analyte\n",
    "X = df_features                          # shape (n_features, n_samples) with (3720, 151)\n",
    "X_train, X_valid, truth_train, truth_valid = train_test_split(X, y_truth, test_size=0.2, random_state=42)\n",
    "# X_train, X_valid = X_train.T, X_valid.T\n",
    "\n",
    "print('in ML a rule of thumbs says that a suitable size for a data set is >1,000 samples')\n",
    "print('size of data sets:')\n",
    "print('> training data  ', X_train.shape, '\\n> validation data', X_valid.shape)"
   ]
  },
  {
   "cell_type": "markdown",
   "id": "13a71852",
   "metadata": {},
   "source": [
    "### Naive approach for HPO"
   ]
  },
  {
   "cell_type": "code",
   "execution_count": 55,
   "id": "184b94a3",
   "metadata": {},
   "outputs": [
    {
     "name": "stdout",
     "output_type": "stream",
     "text": [
      "Select the ML algorithm that shall be optimized. RandomForest, DecisionTree or XGB:RandomForest\n",
      "\n",
      "potential hyperparameters are: \n",
      " n_estimators, \n",
      " min_weight_fraction_leaf, \n",
      " min_samples_split, \n",
      " min_samples_leaf \n",
      " max_leaf_nodes, \n",
      " max_features, \n",
      " max_depth, and \n",
      " bootstrap\n",
      "select the hyperparameter that shall be optimized: n_estimators\n"
     ]
    }
   ],
   "source": [
    "model = input('Select the ML algorithm that shall be optimized. RandomForest, DecisionTree or XGB:' )\n",
    "\n",
    "print('')\n",
    "if model == 'RandomForest':\n",
    "    print('potential hyperparameters are: \\n n_estimators \\n min_weight_fraction_leaf \\n min_samples_split \\n min_samples_leaf', \n",
    "          '\\n max_leaf_nodes \\n max_features \\n max_depth \\n bootstrap')\n",
    "elif model == 'DecisionTree':\n",
    "    print('potential hyperparameters are: \\n splitter \\n max_depth \\n min_samples_leaf \\n min_weight_fraction_leaf, max_features, and', \n",
    "          'max_leaf_nodes')\n",
    "elif model == 'XGB':\n",
    "    print('potential hyperparameters are: \\nn_estimators, max_depth, learning_rate, and min_child_weight')\n",
    "    \n",
    "params = input('select the hyperparameter that shall be optimized: ')"
   ]
  },
  {
   "cell_type": "code",
   "execution_count": null,
   "id": "a7af6abf",
   "metadata": {},
   "outputs": [],
   "source": []
  },
  {
   "cell_type": "code",
   "execution_count": null,
   "id": "4ef8081e",
   "metadata": {},
   "outputs": [],
   "source": []
  },
  {
   "cell_type": "code",
   "execution_count": 42,
   "id": "b33bf255",
   "metadata": {},
   "outputs": [
    {
     "name": "stdout",
     "output_type": "stream",
     "text": [
      "Which ML regressor shall be optimized - (1) Random Forest, (2) Decision tree, or (3) XGBoost? 1\n"
     ]
    }
   ],
   "source": [
    "# select which ML algorithm that shall be optimized (HPO)\n",
    "\n",
    "# Random Forest \n",
    "RF = RandomForestRegressor()\n",
    "\n",
    "# model parameter that will be optimized\n",
    "rf_random = {'n_estimators': [10, 15, 20, 25, 30, 40, 50, 75, 100, 150, 200], #[1, 25, 50, 75, 100, 150, 200],\n",
    "             'max_features': [3, 4, 5, 7, 10, 15, 20], #[1, 2, 3, 4, 5, 7, 10, 20],\n",
    "             'max_depth': [None, 1, 5, 10, 15, 20, 25, 30, 40, 50], #[None, 1, 3, 5, 7, 9, 11, 20, 50],\n",
    "             'min_samples_split': [2, 3], #[2, 3, 4],\n",
    "             'min_samples_leaf': [1, 2, 3, 4, 5, 6, 7, 8, 9, 10], #[1, 2, 4, 6, 8, 10], \n",
    "             'bootstrap': [True, False],  \n",
    "             'max_leaf_nodes': [10, 15, 20, 25, 50, 60, 70, 75, 80, 90, 100], #[None, 10, 20, 30, 40, 50, 60, 70, 80, 90],\n",
    "             'min_weight_fraction_leaf': [0, 0.2,0.4]} #[0, 0.1, 0.2, 0.3, 0.4, 0.45]}\n",
    "\n",
    "\n",
    "# Decision Tree\n",
    "DT = DecisionTreeRegressor() #make_pipeline(preprocessing.StandardScaler(), )\n",
    "\n",
    "# model parameter that will be optimized\n",
    "dt_random = {\"splitter\":[\"best\", \"random\"],\n",
    "             \"max_depth\" : [3, 4, 5, 6, 7, 8, 9, 10],\n",
    "             \"min_samples_leaf\":[1, 2, 3, 4, 5, 6, 7],\n",
    "             \"min_weight_fraction_leaf\":[0, 0.1],\n",
    "             \"max_features\":[None, 1, 2, 3, 4, 5, 6, 7],\n",
    "             \"max_leaf_nodes\":[2, 5, 7, 10, 15, 20, 30, 40, 50, 60, 70, 80, 90, 100]}\n",
    "\n",
    "\n",
    "# XGBoost\n",
    "XG = XGBRegressor()\n",
    "\n",
    "# model parameter that will be optimized\n",
    "xg_random = {'n_estimators': [20, 30, 50, 70, 100, 150, 200, 250],\n",
    "             'max_depth': [5, 7, 9],\n",
    "             'learning_rate': [0, 0.05, 0.1, 0.15, 0.2],\n",
    "             'min_child_weight': [0, 3, 5, 7]}\n",
    "\n",
    "\n",
    "# ----------------------------------------------------------------------------------------\n",
    "model_id = input('Which ML regressor shall be optimized - (1) Random Forest, (2) Decision tree, or (3) XGBoost? ')"
   ]
  },
  {
   "cell_type": "code",
   "execution_count": 36,
   "id": "01bf3bb3",
   "metadata": {},
   "outputs": [],
   "source": [
    "if model_id == '1':\n",
    "    model = RF\n",
    "    random_grid = rf_random\n",
    "elif model_id == '2':\n",
    "    model = DT\n",
    "    random_grid = dt_random\n",
    "elif model_id == '3':\n",
    "    model = XG\n",
    "    random_grid = xg_random\n",
    "else:\n",
    "    print('Please specify the model via its number: (1) Random Forest, (2) Decision tree, or (3) XGBoost')\n",
    "    model = None\n",
    "    random_grid = None"
   ]
  },
  {
   "cell_type": "code",
   "execution_count": 37,
   "id": "5774d8b1",
   "metadata": {
    "scrolled": false
   },
   "outputs": [
    {
     "name": "stdout",
     "output_type": "stream",
     "text": [
      "Fitting 3 folds for each of 100 candidates, totalling 300 fits\n"
     ]
    }
   ],
   "source": [
    "# Random search of parameters, using 3 fold cross validation (cv), \n",
    "# search across 100 different combinations, and use all available cores\n",
    "if model != None:\n",
    "    ML_random = RandomizedSearchCV(estimator=model, param_distributions=random_grid, n_iter=100, cv=3, verbose=2, \n",
    "                                   random_state=42, n_jobs=-1)\n",
    "\n",
    "    # Fit the random search model\n",
    "    ML_random.fit(X_train, truth_train)"
   ]
  },
  {
   "cell_type": "code",
   "execution_count": 38,
   "id": "d1c3d187",
   "metadata": {},
   "outputs": [
    {
     "name": "stdout",
     "output_type": "stream",
     "text": [
      ">> Best estimation of hyperparameter for XGBRegressor(base_score=None, booster=None, callbacks=None,\n",
      "             colsample_bylevel=None, colsample_bynode=None,\n",
      "             colsample_bytree=None, early_stopping_rounds=None,\n",
      "             enable_categorical=False, eval_metric=None, gamma=None,\n",
      "             gpu_id=None, grow_policy=None, importance_type=None,\n",
      "             interaction_constraints=None, learning_rate=None, max_bin=None,\n",
      "             max_cat_to_onehot=None, max_delta_step=None, max_depth=None,\n",
      "             max_leaves=None, min_child_weight=None, missing=nan,\n",
      "             monotone_constraints=None, n_estimators=100, n_jobs=None,\n",
      "             num_parallel_tree=None, predictor=None, random_state=None,\n",
      "             reg_alpha=None, reg_lambda=None, ..\n"
     ]
    },
    {
     "data": {
      "text/html": [
       "<div>\n",
       "<style scoped>\n",
       "    .dataframe tbody tr th:only-of-type {\n",
       "        vertical-align: middle;\n",
       "    }\n",
       "\n",
       "    .dataframe tbody tr th {\n",
       "        vertical-align: top;\n",
       "    }\n",
       "\n",
       "    .dataframe thead th {\n",
       "        text-align: right;\n",
       "    }\n",
       "</style>\n",
       "<table border=\"1\" class=\"dataframe\">\n",
       "  <thead>\n",
       "    <tr style=\"text-align: right;\">\n",
       "      <th></th>\n",
       "      <th>n_estimators</th>\n",
       "      <th>min_child_weight</th>\n",
       "      <th>max_depth</th>\n",
       "      <th>learning_rate</th>\n",
       "    </tr>\n",
       "  </thead>\n",
       "  <tbody>\n",
       "    <tr>\n",
       "      <th>0</th>\n",
       "      <td>250.0</td>\n",
       "      <td>3.0</td>\n",
       "      <td>9.0</td>\n",
       "      <td>0.05</td>\n",
       "    </tr>\n",
       "  </tbody>\n",
       "</table>\n",
       "</div>"
      ],
      "text/plain": [
       "   n_estimators  min_child_weight  max_depth  learning_rate\n",
       "0         250.0               3.0        9.0           0.05"
      ]
     },
     "execution_count": 38,
     "metadata": {},
     "output_type": "execute_result"
    }
   ],
   "source": [
    "print('>> Best estimation of hyperparameter for ' + str(model)[:-2])\n",
    "pd.DataFrame.from_dict(ML_random.best_params_, orient='index').T"
   ]
  },
  {
   "cell_type": "markdown",
   "id": "34c82457",
   "metadata": {},
   "source": [
    "#### Assess model performance with identified HPO"
   ]
  },
  {
   "cell_type": "code",
   "execution_count": null,
   "id": "cd711d85",
   "metadata": {},
   "outputs": [],
   "source": [
    "if model_id == '1':\n",
    "    model.n_estimators = ML_random.best_params_['n_estimators']\n",
    "    model.min_weight_fraction_leaf = ML_random.best_params_['min_weight_fraction_leaf']\n",
    "    model.min_samples_split = ML_random.best_params_['min_samples_split']\n",
    "    model.min_samples_leaf = ML_random.best_params_['min_samples_leaf']\n",
    "    model.max_leaf_nodes = ML_random.best_params_['max_leaf_nodes']\n",
    "    model.max_features = ML_random.best_params_['max_features']\n",
    "    model.max_depth = ML_random.best_params_['max_depth']\n",
    "    model.bootstrap = ML_random.best_params_['bootstrap']\n",
    "    \n",
    "elif model_id == '2':\n",
    "    model.splitter = ML_random.best_params_['splitter']\n",
    "    model.min_weight_fraction_leaf = ML_random.best_params_['min_weight_fraction_leaf']\n",
    "    model.min_samples_leaf = ML_random.best_params_['min_samples_leaf']\n",
    "    model.max_leaf_nodes = ML_random.best_params_['max_leaf_nodes']\n",
    "    model.max_features = ML_random.best_params_['max_features']\n",
    "    model.max_depth = ML_random.best_params_['max_depth']  \n",
    "    \n",
    "elif model_id == '3':\n",
    "    model.n_estimators = ML_random.best_params_['n_estimators']\n",
    "    model.max_depth = ML_random.best_params_['max_depth']  \n",
    "    model.learning_rate = ML_random.best_params_['learning_rate']\n",
    "    model.min_child_weight = ML_random.best_params_['min_child_weight']\n",
    "            \n",
    "regressor = make_pipeline(preprocessing.StandardScaler(), model)"
   ]
  },
  {
   "cell_type": "code",
   "execution_count": null,
   "id": "2f1ddfb2",
   "metadata": {},
   "outputs": [],
   "source": [
    "# define the model performance with optimized hyper-parameters - re-execution 21 times to get the average results\n",
    "[model_, y_predT, y_pred, para] = _fitPredict(model=regressor, X_train=X_train, truth_train=truth_train, \n",
    "                                              X_valid=X_valid, truth_valid=truth_valid)\n",
    "\n",
    "# ---------------------------------------------------------\n",
    "para = pd.DataFrame(para, index=['mae', 'rmse', 'sdz'])\n",
    "para.to_clipboard()"
   ]
  },
  {
   "cell_type": "code",
   "execution_count": null,
   "id": "1ebcf777",
   "metadata": {},
   "outputs": [],
   "source": []
  },
  {
   "cell_type": "markdown",
   "id": "4ff9ca5e",
   "metadata": {},
   "source": [
    "## Naive Approach"
   ]
  },
  {
   "cell_type": "code",
   "execution_count": 29,
   "id": "57b7ed80",
   "metadata": {},
   "outputs": [],
   "source": []
  },
  {
   "cell_type": "code",
   "execution_count": 26,
   "id": "f447b57c",
   "metadata": {},
   "outputs": [],
   "source": [
    "if model == 'RandomForest':\n",
    "    if params == 'n_estimators':\n",
    "        ls_test = [1, 10, 20, 50, 75, 100, 125, 150, 175, 200]                                 # n_estimator\n",
    "    elif params == 'min_weight_fraction_leaf':\n",
    "        ls_test = [0, 0.1, 0.2, 0.3, 0.4, 0.5]                                                 # min_weight_fraction_leaf\n",
    "    elif params == 'min_samples_split':\n",
    "        ls_test = [0.1, 0.25, 0.5, 0.75, 0.9, 2, 3, 4, 5, 7, 10]                               # min_samples_split\n",
    "    elif params == 'min_samples_leaf':\n",
    "        ls_test = [1, 3, 4, 5, 6, 7, 8,9, 10]                                                  # min_samples_leaf\n",
    "    elif params == 'max_leaf_nodes':\n",
    "        ls_test = [2, 5, 10, 20, 30, 40, 50, 60, 70, 80, 90, 100, 150, 200]                    # max_leaf_nodes\n",
    "    elif params == 'max_features':\n",
    "        ls_test = [0.5, 1, 2, 3, 4, 5, 6, 7, 8, 9, 10, 15, 20, 30]                             # max_features\n",
    "    elif params == 'max_depth':\n",
    "        ls_test = [1, 2, 3, 4, 5, 6, 7, 8, 9, 10, 15, 20, 30, 40, 50, 60, 70, 80, 90, 100]     # max_depth\n",
    "    else:\n",
    "        ls_test = [True, False]\n",
    "    mod_estimator = [RandomForestRegressor(bootstrap=l, n_jobs=-1, random_state=42, verbose=2) for l in ls_test]\n",
    "\n",
    "elif model == 'DecisionTree':\n",
    "    if params == 'splitter':\n",
    "        ls_test = ['best', 'random']\n",
    "    elif params == 'max_depth':\n",
    "        ls_test = np.arange(1, 11)\n",
    "    elif params == 'min_samples_leaf':\n",
    "        ls_test = [1, 2, 3, 4, 5, 6, 7]\n",
    "    elif params == 'min_weight_fraction_leaf':\n",
    "        ls_test = np.arange(0.1, .6, 0.1)\n",
    "    elif params == 'max_features':\n",
    "        ls_test = [None, 1, 2, 3, 4, 5, 6, 7]\n",
    "    elif params == 'max_leaf_nodes':\n",
    "        ls_test = [2, 5, 7, 10, 15, 20, 30, 40, 50, 60, 70, 80, 90, 100]                \n",
    "    mod_estimator = [DecisionTreeRegressor(max_leaf_nodes=l, random_state=42) for l in ls_test]\n",
    "\n",
    "elif model == 'XGB':\n",
    "    if params == 'n_estimators':\n",
    "        ls_test = np.arange(20, 270, 20)\n",
    "    elif params == 'max_depth':\n",
    "        ls_test = np.arange(1, 10)\n",
    "    elif params == 'learning_rate':\n",
    "        ls_test = [0, 0.05, 0.1, 0.15, 0.2]\n",
    "    elif params == 'min_child_weight': \n",
    "        ls_test = np.arange(0, 8)\n",
    "    mod_estimator = [XGBRegressor(min_child_weight=l, n_jobs=-1, random_state=42) for l in ls_test]\n",
    "    \n",
    "reg = [make_pipeline(preprocessing.StandardScaler(), m) for m in mod_estimator]"
   ]
  },
  {
   "cell_type": "code",
   "execution_count": 27,
   "id": "7cac37c2",
   "metadata": {},
   "outputs": [],
   "source": [
    "dpara = dict()\n",
    "for en, reg_model in enumerate(reg):\n",
    "    [model_, y_predT, y_pred, para] = _fitPredict(model=reg_model, X_train=X_train, truth_train=truth_train, X_valid=X_valid,\n",
    "                                                    truth_valid=truth_valid)\n",
    "    df_para = pd.DataFrame(para, index=['mae', 'rmse', 'sdz'])\n",
    "    dpara[en] = df_para"
   ]
  },
  {
   "cell_type": "code",
   "execution_count": 28,
   "id": "41e60df7",
   "metadata": {},
   "outputs": [],
   "source": [
    "df = pd.concat(dpara, axis=1).T[['mae', 'rmse']]\n",
    "\n",
    "ddf_train = df.T.filter(like='training').T\n",
    "ddf_train.index = ls_test\n",
    "\n",
    "ddf_valid = df.T.filter(like='test').T\n",
    "ddf_valid.index = ls_test\n",
    "\n",
    "pd.concat([ddf_train, ddf_valid], axis=1).to_clipboard()"
   ]
  },
  {
   "cell_type": "code",
   "execution_count": 32,
   "id": "2dfccedc",
   "metadata": {},
   "outputs": [
    {
     "data": {
      "image/png": "[encoded data removed]",
      "text/plain": [
       "<Figure size 648x216 with 2 Axes>"
      ]
     },
     "metadata": {
      "needs_background": "light"
     },
     "output_type": "display_data"
    }
   ],
   "source": [
    "df = pd.concat(dpara, axis=1).T[['mae', 'rmse']]\n",
    "\n",
    "fs = 10\n",
    "x1 = 0.0\n",
    "\n",
    "xnew = [0, 1] if params == 'bootstrap' else ls_test\n",
    "# -----------------------------------------------------\n",
    "\n",
    "fig, ax = plt.subplots(figsize=(9, 3), ncols=2)\n",
    "ax[0].set_ylabel('MAE', fontsize=fs), ax[0].set_xlabel(params, fontsize=fs)\n",
    "ax[1].set_ylabel('RMSE', fontsize=fs), ax[1].set_xlabel(params, fontsize=fs)\n",
    "\n",
    "ax[0].plot(xnew, ddf_train['mae'], label='training')\n",
    "ax[0].plot(xnew, ddf_valid['mae'], label='test')\n",
    "ax[1].plot(xnew, ddf_train['rmse'], label='training')\n",
    "ax[1].plot(xnew, ddf_valid['rmse'], label='test')\n",
    "ax[0].legend(fancybox=True, fontsize=fs*0.8), ax[1].legend(fancybox=True, fontsize=fs*0.8)\n",
    "\n",
    "ax[0].axvline(x1, color='k', lw=.75, ls='-.')\n",
    "ax[1].axvline(x1, color='k', lw=.75, ls='-.')\n",
    "\n",
    "\n",
    "sns.despine(), plt.tight_layout()\n",
    "\n",
    "#fig.savefig('20230110_pH-HPO_XGB_{}.png'.format(params), transparent=True, dpi=300)"
   ]
  },
  {
   "cell_type": "code",
   "execution_count": 51,
   "id": "d3844881",
   "metadata": {},
   "outputs": [
    {
     "data": {
      "text/html": [
       "<div>\n",
       "<style scoped>\n",
       "    .dataframe tbody tr th:only-of-type {\n",
       "        vertical-align: middle;\n",
       "    }\n",
       "\n",
       "    .dataframe tbody tr th {\n",
       "        vertical-align: top;\n",
       "    }\n",
       "\n",
       "    .dataframe thead th {\n",
       "        text-align: right;\n",
       "    }\n",
       "</style>\n",
       "<table border=\"1\" class=\"dataframe\">\n",
       "  <thead>\n",
       "    <tr style=\"text-align: right;\">\n",
       "      <th></th>\n",
       "      <th>training</th>\n",
       "      <th>test</th>\n",
       "    </tr>\n",
       "  </thead>\n",
       "  <tbody>\n",
       "    <tr>\n",
       "      <th>mae</th>\n",
       "      <td>0.584771</td>\n",
       "      <td>1.668394</td>\n",
       "    </tr>\n",
       "    <tr>\n",
       "      <th>rmse</th>\n",
       "      <td>1.067840</td>\n",
       "      <td>4.540505</td>\n",
       "    </tr>\n",
       "    <tr>\n",
       "      <th>sdz</th>\n",
       "      <td>inf</td>\n",
       "      <td>inf</td>\n",
       "    </tr>\n",
       "  </tbody>\n",
       "</table>\n",
       "</div>"
      ],
      "text/plain": [
       "      training      test\n",
       "mae   0.584771  1.668394\n",
       "rmse  1.067840  4.540505\n",
       "sdz        inf       inf"
      ]
     },
     "execution_count": 51,
     "metadata": {},
     "output_type": "execute_result"
    }
   ],
   "source": [
    "#model = RandomForestRegressor(n_estimators=10, min_weight_fraction_leaf=0, min_samples_split=2, min_samples_leaf=4, \n",
    "#                              max_leaf_nodes=25, max_features=10, max_depth=5, bootstrap=True, n_jobs=-1, random_state=42, \n",
    "#                              verbose=2)\n",
    "# model = DecisionTreeRegressor(splitter='best', max_depth=7, min_samples_leaf=1, min_weight_fraction_leaf=0,\n",
    "#                                max_features=7, max_leaf_nodes=15, random_state=42)\n",
    "model = XGBRegressor(n_estimators=250, max_depth=5, learning_rate=0.05, min_child_weight=7, n_jobs=-1, random_state=42)\n",
    "\n",
    "regressor = make_pipeline(preprocessing.StandardScaler(), model)\n",
    "\n",
    "# define the model performance with optimized hyper-parameters - re-execution 21 times to get the average results\n",
    "[model_, y_predT, y_pred, para] = _fitPredict(model=regressor, X_train=X_train, truth_train=truth_train, \n",
    "                                              X_valid=X_valid, truth_valid=truth_valid)\n",
    "\n",
    "# ---------------------------------------------------------\n",
    "para = pd.DataFrame(para, index=['mae', 'rmse', 'sdz'])\n",
    "para#.to_clipboard()"
   ]
  },
  {
   "cell_type": "code",
   "execution_count": null,
   "id": "6f854263",
   "metadata": {},
   "outputs": [],
   "source": []
  }
 ],
 "metadata": {
  "kernelspec": {
   "display_name": "Python 3",
   "language": "python",
   "name": "python3"
  },
  "language_info": {
   "codemirror_mode": {
    "name": "ipython",
    "version": 3
   },
   "file_extension": ".py",
   "mimetype": "text/x-python",
   "name": "python",
   "nbconvert_exporter": "python",
   "pygments_lexer": "ipython3",
   "version": "3.8.8"
  }
 },
 "nbformat": 4,
 "nbformat_minor": 5
}
