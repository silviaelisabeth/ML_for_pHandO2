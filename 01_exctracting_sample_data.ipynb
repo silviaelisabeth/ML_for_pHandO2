{
 "cells": [
  {
   "cell_type": "code",
   "execution_count": 13,
   "id": "06121be1",
   "metadata": {},
   "outputs": [
    {
     "name": "stdout",
     "output_type": "stream",
     "text": [
      "Using matplotlib backend: MacOSX\n"
     ]
    }
   ],
   "source": [
    "%run function_dbs.py\n",
    "%run hyperStack_basic.py\n",
    "%matplotlib"
   ]
  },
  {
   "cell_type": "code",
   "execution_count": 3,
   "id": "c01a392c",
   "metadata": {},
   "outputs": [],
   "source": [
    "# get link to data\n",
    "pathData = '/Volumes/HIS-CAMEL/04measurementData/03_projects/06_pH+O2/20220718/image_scene/460nm/5ms/'\n",
    "file_calib_overview = '202207_calibrationPoints.xlsx'"
   ]
  },
  {
   "cell_type": "markdown",
   "id": "1d60a6ae",
   "metadata": {},
   "source": [
    "## collect information about calibration points"
   ]
  },
  {
   "cell_type": "code",
   "execution_count": 5,
   "id": "ee87fcf8",
   "metadata": {
    "scrolled": true
   },
   "outputs": [
    {
     "data": {
      "text/html": [
       "<div>\n",
       "<style scoped>\n",
       "    .dataframe tbody tr th:only-of-type {\n",
       "        vertical-align: middle;\n",
       "    }\n",
       "\n",
       "    .dataframe tbody tr th {\n",
       "        vertical-align: top;\n",
       "    }\n",
       "\n",
       "    .dataframe thead th {\n",
       "        text-align: right;\n",
       "    }\n",
       "</style>\n",
       "<table border=\"1\" class=\"dataframe\">\n",
       "  <thead>\n",
       "    <tr style=\"text-align: right;\">\n",
       "      <th></th>\n",
       "      <th>pH</th>\n",
       "      <th>O2 (%O2)</th>\n",
       "      <th>LED</th>\n",
       "      <th>integration time (ms)</th>\n",
       "      <th>Unnamed: 4</th>\n",
       "    </tr>\n",
       "  </thead>\n",
       "  <tbody>\n",
       "    <tr>\n",
       "      <th>0</th>\n",
       "      <td>6.0100</td>\n",
       "      <td>20.35</td>\n",
       "      <td>460</td>\n",
       "      <td>5</td>\n",
       "      <td>y</td>\n",
       "    </tr>\n",
       "    <tr>\n",
       "      <th>4</th>\n",
       "      <td>6.5050</td>\n",
       "      <td>20.42</td>\n",
       "      <td>460</td>\n",
       "      <td>5</td>\n",
       "      <td>y</td>\n",
       "    </tr>\n",
       "    <tr>\n",
       "      <th>8</th>\n",
       "      <td>5.4900</td>\n",
       "      <td>20.41</td>\n",
       "      <td>460</td>\n",
       "      <td>5</td>\n",
       "      <td>y</td>\n",
       "    </tr>\n",
       "    <tr>\n",
       "      <th>12</th>\n",
       "      <td>4.9900</td>\n",
       "      <td>20.36</td>\n",
       "      <td>460</td>\n",
       "      <td>5</td>\n",
       "      <td>y</td>\n",
       "    </tr>\n",
       "    <tr>\n",
       "      <th>16</th>\n",
       "      <td>3.9615</td>\n",
       "      <td>20.33</td>\n",
       "      <td>460</td>\n",
       "      <td>5</td>\n",
       "      <td>y</td>\n",
       "    </tr>\n",
       "  </tbody>\n",
       "</table>\n",
       "</div>"
      ],
      "text/plain": [
       "        pH  O2 (%O2)  LED  integration time (ms) Unnamed: 4\n",
       "0   6.0100     20.35  460                      5          y\n",
       "4   6.5050     20.42  460                      5          y\n",
       "8   5.4900     20.41  460                      5          y\n",
       "12  4.9900     20.36  460                      5          y\n",
       "16  3.9615     20.33  460                      5          y"
      ]
     },
     "execution_count": 5,
     "metadata": {},
     "output_type": "execute_result"
    }
   ],
   "source": [
    "df_head = pd.read_excel(file_calib_overview)\n",
    "df_head_ = df_head[df_head['LED'] == int(pathData.split('/')[-3].split('nm')[0])]\n",
    "df_head = df_head_[df_head_['integration time (ms)'] == int(pathData.split('/')[-2].split('m')[0])]\n",
    "df_head.head(5)"
   ]
  },
  {
   "cell_type": "code",
   "execution_count": null,
   "id": "94f3d699",
   "metadata": {
    "scrolled": true
   },
   "outputs": [],
   "source": []
  },
  {
   "cell_type": "markdown",
   "id": "293528dd",
   "metadata": {},
   "source": [
    "## inspect image cubes and extract spectral info"
   ]
  },
  {
   "cell_type": "code",
   "execution_count": 20,
   "id": "ab3bb090",
   "metadata": {},
   "outputs": [
    {
     "name": "stdout",
     "output_type": "stream",
     "text": [
      "number of collected files: 40\n"
     ]
    },
    {
     "data": {
      "text/html": [
       "<div>\n",
       "<style scoped>\n",
       "    .dataframe tbody tr th:only-of-type {\n",
       "        vertical-align: middle;\n",
       "    }\n",
       "\n",
       "    .dataframe tbody tr th {\n",
       "        vertical-align: top;\n",
       "    }\n",
       "\n",
       "    .dataframe thead th {\n",
       "        text-align: right;\n",
       "    }\n",
       "</style>\n",
       "<table border=\"1\" class=\"dataframe\">\n",
       "  <thead>\n",
       "    <tr style=\"text-align: right;\">\n",
       "      <th></th>\n",
       "      <th>0</th>\n",
       "      <th>pH</th>\n",
       "      <th>O2 (%O2)</th>\n",
       "    </tr>\n",
       "  </thead>\n",
       "  <tbody>\n",
       "    <tr>\n",
       "      <th>0</th>\n",
       "      <td>/Volumes/HIS-CAMEL/04measurementData/03_projec...</td>\n",
       "      <td>1.7</td>\n",
       "      <td>20.34</td>\n",
       "    </tr>\n",
       "    <tr>\n",
       "      <th>9</th>\n",
       "      <td>/Volumes/HIS-CAMEL/04measurementData/03_projec...</td>\n",
       "      <td>2.0</td>\n",
       "      <td>0.00</td>\n",
       "    </tr>\n",
       "    <tr>\n",
       "      <th>10</th>\n",
       "      <td>/Volumes/HIS-CAMEL/04measurementData/03_projec...</td>\n",
       "      <td>4.0</td>\n",
       "      <td>0.00</td>\n",
       "    </tr>\n",
       "    <tr>\n",
       "      <th>15</th>\n",
       "      <td>/Volumes/HIS-CAMEL/04measurementData/03_projec...</td>\n",
       "      <td>4.0</td>\n",
       "      <td>6.00</td>\n",
       "    </tr>\n",
       "    <tr>\n",
       "      <th>11</th>\n",
       "      <td>/Volumes/HIS-CAMEL/04measurementData/03_projec...</td>\n",
       "      <td>4.0</td>\n",
       "      <td>10.40</td>\n",
       "    </tr>\n",
       "  </tbody>\n",
       "</table>\n",
       "</div>"
      ],
      "text/plain": [
       "                                                    0   pH  O2 (%O2)\n",
       "0   /Volumes/HIS-CAMEL/04measurementData/03_projec...  1.7     20.34\n",
       "9   /Volumes/HIS-CAMEL/04measurementData/03_projec...  2.0      0.00\n",
       "10  /Volumes/HIS-CAMEL/04measurementData/03_projec...  4.0      0.00\n",
       "15  /Volumes/HIS-CAMEL/04measurementData/03_projec...  4.0      6.00\n",
       "11  /Volumes/HIS-CAMEL/04measurementData/03_projec...  4.0     10.40"
      ]
     },
     "execution_count": 20,
     "metadata": {},
     "output_type": "execute_result"
    }
   ],
   "source": [
    "ls_files = list([f for f in glob(pathData + '/*.hdr') if 'corrected' in f])\n",
    "print('number of collected files:', len(ls_files))\n",
    "\n",
    "# --------------------------------\n",
    "# get pH and O2 information from the excel\n",
    "ls_pH = df_head['pH'].to_numpy()\n",
    "ls_ph = list(dict.fromkeys(list([int(o) for o in ls_pH])))\n",
    "\n",
    "ls_O2 = df_head['O2 (%O2)'].to_numpy()\n",
    "ls_ox = list(dict.fromkeys(list([int(o) for o in ls_O2])))\n",
    "\n",
    "# --------------------------------\n",
    "# sort files according to oxygen / pH calibration points (prep for RoI selection)\n",
    "ls_calib = list()\n",
    "for f in ls_files:\n",
    "    calib = f.split('pH')[-1].split('O2')[0].split('-')\n",
    "    l = [np.float(c.replace(',', '.')) for c in calib]\n",
    "    ls_calib.append(l)\n",
    "    \n",
    "df_files = pd.concat([pd.DataFrame(ls_files), pd.DataFrame(ls_calib, columns = ['pH', 'O2 (%O2)'])], axis=1)\n",
    "df_files = df_files.sort_values(by=['pH', 'O2 (%O2)'])\n",
    "df_files.head(5)"
   ]
  },
  {
   "cell_type": "code",
   "execution_count": 7,
   "id": "8012833b",
   "metadata": {},
   "outputs": [],
   "source": [
    "# collect overall cube-info\n",
    "para = dict(map(lambda en: (tuple(df_files.loc[en+1][['pH', 'O2 (%O2)']].to_numpy()), load_cube(file_hdr=ls_files[en+1])), \n",
    "                range(len(df_files[0].to_numpy())-1)))"
   ]
  },
  {
   "cell_type": "code",
   "execution_count": 8,
   "id": "ea66b33f",
   "metadata": {
    "scrolled": true
   },
   "outputs": [],
   "source": [
    "# get individual data\n",
    "ls_wl = dict(map(lambda en: (en, list(para[en]['Wavelength'])), para.keys()))\n",
    "data = dict(map(lambda en: (en, para[en]['cube'].open_memmap()), para.keys()))"
   ]
  },
  {
   "cell_type": "code",
   "execution_count": 9,
   "id": "a70f1080",
   "metadata": {},
   "outputs": [],
   "source": [
    "# select sets \n",
    "ls_set1 = sorted(list(list(data.keys())[33:37]) + list(list(data.keys())[38:]) +  list(list(data.keys())[30:33]))\n",
    "ls_set2 = sorted(list(list(data.keys())[25:30]))\n",
    "ls_set3 = sorted(list(list(data.keys())[19:21]) + list(list(data.keys())[24:25]))\n",
    "ls_set4 = sorted(list(list(data.keys())[21:22]) + list(list(data.keys())[23:24]))\n",
    "ls_set5 = sorted(list(list(data.keys())[10:12]))\n",
    "ls_set6 = sorted(list(list(data.keys())[18:19]) + list(list(data.keys())[22:23])) \n",
    "ls_set7 = sorted(list(list(data.keys())[7:10]))\n",
    "ls_set8 = sorted(list(list(data.keys())[:7]))\n",
    "ls_set9 = sorted(list(list(data.keys())[12:13]) + list(list(data.keys())[15:16]) + list(list(data.keys())[17:18]))\n",
    "ls_set10 = sorted(list(list(data.keys())[13:15]))\n",
    "ls_set11 = sorted(list(list(data.keys())[16:17]))\n",
    "ls_set12 = sorted(list(list(data.keys())[37:38]))\n",
    "\n",
    "ls_sets = [ls_set1, ls_set2, ls_set3, ls_set4, ls_set5, ls_set6, ls_set7, ls_set8, ls_set9, ls_set10, ls_set11, ls_set12]"
   ]
  },
  {
   "cell_type": "code",
   "execution_count": 10,
   "id": "c7ecd285",
   "metadata": {},
   "outputs": [],
   "source": [
    "# adjust RoI to secure you always use the correct area in the optode --> small area\n",
    "RoI_optode = [[(1200, 600), (1300, 600), (1300, 700), (1200, 700)], # set-1\n",
    "              [(1250, 660), (1317, 660), (1317, 740), (1250, 740)], # set-2\n",
    "              [(1150, 690), (1300, 690), (1300, 760), (1150, 760)], # set-3\n",
    "              [(1260, 710), (1290, 710), (1290, 740), (1260, 740)], # set-4\n",
    "              [(1280, 650), (1360, 650), (1360, 730), (1280, 730)], # set-5\n",
    "              [(1000, 610), (1175, 610), (1175, 680), (1000, 680)], # set-6\n",
    "              [(1000, 620), (1050, 620), (1050, 740), (1000, 740)], # set-7\n",
    "              [(1150, 600), (1350, 600), (1350, 750), (1150, 750)], # set-8\n",
    "              [(1230, 600), (1420, 600), (1420, 750), (1230, 750)], # set-9\n",
    "              [(1250, 550), (1350, 550), (1350, 750), (1250, 750)], # set-10\n",
    "              [(1100, 510), (1350, 510), (1350, 750), (1100, 750)], # set-11\n",
    "              [(1075, 680), (1275, 680), (1275, 800), (1075, 800)]] # set-12\n",
    "\n",
    "# -----------------------------------\n",
    "set_ = 1\n",
    "for k, l in enumerate(ls_sets[set_]):\n",
    "    fig, ax = plt.subplots()\n",
    "    fig.canvas.set_window_title(df_files[0].to_numpy()[k].split('/')[-1].split('_corr')[0])\n",
    "    \n",
    "    if RoI_optode:\n",
    "        df = data[l][:, :, 100][RoI_optode[set_][1][1]: RoI_optode[set_][2][1], RoI_optode[set_][0][0]: RoI_optode[set_][1][0]]\n",
    "    else:\n",
    "        df = data[l][:, :, 100]\n",
    "\n",
    "    ax.imshow(df, vmin=0, vmax=0.65)\n",
    "    plt.tight_layout(pad=1)\n",
    "    plt.show()\n",
    "    \n",
    "    \n",
    "    # save figure \n",
    "    # fig.savefig('Plot/RoI_optodes/' + str(i) + '_' + title + '.png')"
   ]
  },
  {
   "cell_type": "code",
   "execution_count": 11,
   "id": "a4a5b272",
   "metadata": {
    "scrolled": true
   },
   "outputs": [],
   "source": [
    "ddata = dict()\n",
    "for en, l in enumerate(ls_sets):  \n",
    "    for li in l:\n",
    "        # crop data frame\n",
    "        df = data[li][:, :, :][RoI_optode[en][1][1]: RoI_optode[en][2][1], RoI_optode[en][0][0]: RoI_optode[en][1][0]]\n",
    "\n",
    "        # collect pH and O2 information\n",
    "        ph, ox = li[0], li[1]\n",
    "\n",
    "        # store data in dictionary\n",
    "        ddata[(ph, ox)] = df\n"
   ]
  },
  {
   "cell_type": "code",
   "execution_count": 14,
   "id": "fd6f5d97",
   "metadata": {
    "scrolled": true
   },
   "outputs": [
    {
     "data": {
      "text/plain": [
       "[900,\n",
       " 900,\n",
       " 900,\n",
       " 900,\n",
       " 900,\n",
       " 900,\n",
       " 900,\n",
       " 900,\n",
       " 871,\n",
       " 871,\n",
       " 871,\n",
       " 871,\n",
       " 871,\n",
       " 910,\n",
       " 910,\n",
       " 910,\n",
       " 900,\n",
       " 900,\n",
       " 880,\n",
       " 880,\n",
       " 910,\n",
       " 910,\n",
       " 900,\n",
       " 900,\n",
       " 900,\n",
       " 900,\n",
       " 900,\n",
       " 900,\n",
       " 900,\n",
       " 900,\n",
       " 900,\n",
       " 900,\n",
       " 900,\n",
       " 900,\n",
       " 900,\n",
       " 900,\n",
       " 900,\n",
       " 960,\n",
       " 960]"
      ]
     },
     "execution_count": 14,
     "metadata": {},
     "output_type": "execute_result"
    }
   ],
   "source": [
    "# make sure the RoI have the same size\n",
    "ls_imsize = [ddata[i].shape[0]*ddata[i].shape[1] for i in ddata.keys()]\n",
    "indices = [i for i, x in enumerate(ls_imsize) if x ==  min(ls_imsize)]\n",
    "smallestRoI = ddata[list(ddata.keys())[indices[0]]].shape[0]*ddata[list(ddata.keys())[indices[0]]].shape[1]\n",
    "\n",
    "ls_reshape = list(map(lambda en: reshapeRoI(a=ddata[en].shape[0], b=ddata[en].shape[1], smallestRoI=smallestRoI), ddata.keys()))\n",
    "\n",
    "ddata_reshaped = dict(map(lambda en: (en[1], ddata[en[1]][:ls_reshape[en[0]][0], :ls_reshape[en[0]][1], :]), enumerate(ddata.keys())))\n",
    "\n",
    "# double-check size of RoI\n",
    "[ddata_reshaped[en].shape[0]*ddata_reshaped[en].shape[1] for en in ddata_reshaped.keys()]"
   ]
  },
  {
   "cell_type": "code",
   "execution_count": 15,
   "id": "530f5969",
   "metadata": {
    "scrolled": true
   },
   "outputs": [],
   "source": [
    "# re-arange dataframe: calibration point, wavelength x width x height\n",
    "ddata_swaped = dict(map(lambda c: (c, np.swapaxes(ddata_reshaped[c], 0, 2)), ddata_reshaped.keys()))\n",
    "\n",
    "# outlier removal\n",
    "data_start = dict(map(lambda en: (en, dict(map(lambda wl: (wl, _interquartOutlierRemove(ddata_swaped[en][wl])), \n",
    "                                               np.arange(len(ddata_swaped[en]))))), ddata_swaped.keys()))"
   ]
  },
  {
   "cell_type": "markdown",
   "id": "06a06cc4",
   "metadata": {},
   "source": [
    "###### split each calibration dataframe in an equal amount of chunks \n",
    "generates more data points -> avoid data augmentation but enables a more secure training data set"
   ]
  },
  {
   "cell_type": "code",
   "execution_count": 24,
   "id": "a4e3982f",
   "metadata": {},
   "outputs": [],
   "source": [
    "dic_sm = dict(map(lambda c: (c, split2chunks(df=data_start[c], ls_wl=ls_wl[c], ph=c[0], ox=c[1], n_pixels=5)), data_start.keys()))\n",
    "\n",
    "# concat dataset to get a structured set\n",
    "df_data = pd.concat(dic_sm)\n",
    "df_data.index = np.arange(0, len(df_data.index))\n",
    "df_data.shape"
   ]
  },
  {
   "cell_type": "markdown",
   "id": "eadf7724",
   "metadata": {},
   "source": [
    "## save data"
   ]
  },
  {
   "cell_type": "code",
   "execution_count": null,
   "id": "f53baf73",
   "metadata": {},
   "outputs": [],
   "source": [
    "# save the smaller RoI as csv\n",
    "df_data.to_csv('TrainingData_absoluteIntensity.csv')"
   ]
  },
  {
   "cell_type": "code",
   "execution_count": null,
   "id": "3455174d",
   "metadata": {},
   "outputs": [],
   "source": []
  }
 ],
 "metadata": {
  "kernelspec": {
   "display_name": "Python 3",
   "language": "python",
   "name": "python3"
  },
  "language_info": {
   "codemirror_mode": {
    "name": "ipython",
    "version": 3
   },
   "file_extension": ".py",
   "mimetype": "text/x-python",
   "name": "python",
   "nbconvert_exporter": "python",
   "pygments_lexer": "ipython3",
   "version": "3.8.8"
  }
 },
 "nbformat": 4,
 "nbformat_minor": 5
}
